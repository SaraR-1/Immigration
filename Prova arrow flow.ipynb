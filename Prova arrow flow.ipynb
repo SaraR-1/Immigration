{
 "cells": [
  {
   "cell_type": "code",
   "execution_count": 1,
   "metadata": {},
   "outputs": [],
   "source": [
    "import pandas as pd\n",
    "import seaborn as sns\n",
    "import matplotlib.pyplot as plt\n",
    "import matplotlib.lines as mlines\n",
    "\n",
    "import folium\n",
    "import branca.colormap as cm\n",
    "import os\n",
    "import json\n",
    "import plot_function"
   ]
  },
  {
   "cell_type": "code",
   "execution_count": 2,
   "metadata": {},
   "outputs": [],
   "source": [
    "top5_zone = json.load(open('Statistics/py_zone_top5_countrie_cont.json'))\n",
    "top5_zone = {k1: {k2:[int(i) for i in v2] for k2, v2 in v1.items()} for k1, v1 in top5_zone.items()}\n",
    "\n",
    "all_z = sorted(top5_zone.keys())"
   ]
  },
  {
   "cell_type": "code",
   "execution_count": 3,
   "metadata": {},
   "outputs": [],
   "source": [
    "mar_2014 = {}\n",
    "mar_2017 = {}\n",
    "mar_rate = {}\n",
    "mar_diff = {}\n",
    "for z in all_z:\n",
    "    mar_2014[z] = top5_zone[z][\"MAR\"][-4]\n",
    "    mar_2017[z] = top5_zone[z][\"MAR\"][-1]\n",
    "    mar_rate[z] = 1.*(mar_2017[z] - mar_2014[z])/mar_2014[z]\n",
    "    mar_diff[z] = mar_2017[z] - mar_2014[z]"
   ]
  },
  {
   "cell_type": "code",
   "execution_count": 8,
   "metadata": {},
   "outputs": [
    {
     "name": "stdout",
     "output_type": "stream",
     "text": [
      "| Centro | 63823 | 60365 | -3458 | -0.054181094589724706 |\n",
      "| Isole | 18648 | 19202 | 554 | 0.02970827970827971 |\n",
      "| Nord-est | 137724 | 119727 | -17997 | -0.13067439226278643 |\n",
      "| Nord-ovest | 185718 | 166432 | -19286 | -0.1038456153953844 |\n",
      "| Sud | 48860 | 54925 | 6065 | 0.1241301678264429 |\n"
     ]
    }
   ],
   "source": [
    "for i in mar_2014.keys():\n",
    "    print(\"| \" + i + \" | \"+ str(mar_2014[i]) +\" | \" + str(mar_2017[i]) + \" | \"+ str(mar_diff[i]) +\" | \" + str(mar_rate[i]) + \" |\")"
   ]
  },
  {
   "cell_type": "code",
   "execution_count": 15,
   "metadata": {},
   "outputs": [
    {
     "data": {
      "text/plain": [
       "{'Centro': 63823,\n",
       " 'Isole': 18648,\n",
       " 'Nord-est': 137724,\n",
       " 'Nord-ovest': 185718,\n",
       " 'Sud': 48860}"
      ]
     },
     "execution_count": 15,
     "metadata": {},
     "output_type": "execute_result"
    }
   ],
   "source": [
    "mar_2014"
   ]
  },
  {
   "cell_type": "code",
   "execution_count": 16,
   "metadata": {},
   "outputs": [
    {
     "data": {
      "text/plain": [
       "{'Centro': 60365,\n",
       " 'Isole': 19202,\n",
       " 'Nord-est': 119727,\n",
       " 'Nord-ovest': 166432,\n",
       " 'Sud': 54925}"
      ]
     },
     "execution_count": 16,
     "metadata": {},
     "output_type": "execute_result"
    }
   ],
   "source": [
    "mar_2017"
   ]
  },
  {
   "cell_type": "code",
   "execution_count": 17,
   "metadata": {},
   "outputs": [
    {
     "data": {
      "text/plain": [
       "{'Centro': -0.054181094589724706,\n",
       " 'Isole': 0.02970827970827971,\n",
       " 'Nord-est': -0.13067439226278643,\n",
       " 'Nord-ovest': -0.1038456153953844,\n",
       " 'Sud': 0.1241301678264429}"
      ]
     },
     "execution_count": 17,
     "metadata": {},
     "output_type": "execute_result"
    }
   ],
   "source": [
    "mar_rate"
   ]
  },
  {
   "cell_type": "code",
   "execution_count": 19,
   "metadata": {},
   "outputs": [
    {
     "data": {
      "text/plain": [
       "{'Centro': -3458,\n",
       " 'Isole': 554,\n",
       " 'Nord-est': -17997,\n",
       " 'Nord-ovest': -19286,\n",
       " 'Sud': 6065}"
      ]
     },
     "execution_count": 19,
     "metadata": {},
     "output_type": "execute_result"
    }
   ],
   "source": [
    "mar_diff"
   ]
  },
  {
   "cell_type": "code",
   "execution_count": null,
   "metadata": {},
   "outputs": [],
   "source": []
  },
  {
   "cell_type": "code",
   "execution_count": null,
   "metadata": {},
   "outputs": [],
   "source": []
  },
  {
   "cell_type": "code",
   "execution_count": 44,
   "metadata": {},
   "outputs": [],
   "source": [
    "data = 'Statistics/region_abs.json'\n",
    "year = 2017\n",
    "path = \"Plots\"\n",
    "key = True\n",
    "\n",
    "data = plot_function.upload_data(data, key)\n",
    "# define the color scale (one single year)\n",
    "y_year = [data[r][year] for r in data.keys()]\n",
    "linear = cm.LinearColormap(\n",
    "    #['r', 'y', 'g', 'c', 'b', 'm']\n",
    "    #['red', 'blue'],\n",
    "    ['green', 'yellow', 'red'],\n",
    "    vmin=min(y_year), vmax=max(y_year)\n",
    ")\n",
    "\n",
    "# all the bounds files\n",
    "all_geo_json_d = os.listdir(\"geo_json_it_area/\")\n",
    "all_geo_json_d_center = os.listdir(\"geo_json_it_center/\")\n",
    "\n",
    "\n",
    "it_lat = 42.50\n",
    "it_long = 12.50\n",
    "my_map = folium.Map(location=[it_lat, it_long], zoom_start=6, tiles=\"openstreetmap\")\n",
    "\n",
    "for d in all_geo_json_d:\n",
    "    geo_json_d = json.load(open(\"geo_json_it_area/\"+d))\n",
    "    '''every region has multiple information (under geo_json_d[\"features\"]), \n",
    "    the first one is always about the region, the other once about specific cities in it'''\n",
    "    globals()[d+\"_area\"] = folium.GeoJson(\n",
    "        geo_json_d[\"features\"][0],\n",
    "        style_function=lambda feature: {\n",
    "        'fillColor': 'grey',\n",
    "        'color': 'black',\n",
    "        'weight': 1,\n",
    "        'dashArray': '5, 5'\n",
    "    }\n",
    "    ).add_to(my_map)\n",
    "\n",
    "lazio_coordinates = (41.8125346, 12.738407)\n",
    "puglia_coordinates = (41.0080375, 16.7277406)\n",
    "coordinates = [lazio_coordinates, puglia_coordinates]\n",
    "m = (puglia_coordinates[1] - lazio_coordinates[1]) / (puglia_coordinates[0] - lazio_coordinates[0])\n",
    "\n",
    "# Add the arrow\n",
    "# corpo\n",
    "w = 5\n",
    "folium.PolyLine(locations=coordinates, weight=w, color = 'blue', opacity = .7).add_to(my_map)\n",
    "# punta - rotation deve essere calcolata in basa all'inclinazione della freccia\n",
    "folium.RegularPolygonMarker(location=puglia_coordinates, popup='Qualche valore w?', fill_color='blue', color = 'blue', number_of_sides=3, radius=w*3, rotation=-m, opacity = .7).add_to(my_map)\n",
    "\n",
    "my_map.save(\"prova.html\")"
   ]
  },
  {
   "cell_type": "code",
   "execution_count": 20,
   "metadata": {},
   "outputs": [
    {
     "data": {
      "text/plain": [
       "-4.958791771903224"
      ]
     },
     "execution_count": 20,
     "metadata": {},
     "output_type": "execute_result"
    }
   ],
   "source": [
    "lazio_coordinates = (41.8125346, 12.738407)\n",
    "puglia_coordinates = (41.0080375, 16.7277406)\n",
    "coordinates = [lazio_coordinates, puglia_coordinates]\n",
    "m = (puglia_coordinates[1] - lazio_coordinates[1]) / (puglia_coordinates[0] - lazio_coordinates[0])\n",
    "m"
   ]
  },
  {
   "cell_type": "code",
   "execution_count": 13,
   "metadata": {},
   "outputs": [
    {
     "name": "stdout",
     "output_type": "stream",
     "text": [
      "Puglia 41.0080375 16.7277406\n",
      "Piemonte 45.2619685 7.9207531\n",
      "Molise 41.7171235 14.5513487\n",
      "Marche 43.3292325 13.0509065\n",
      "Lombardia 45.6576307 9.9627498\n",
      "Liguria 44.2260665 8.7835983\n",
      "Lazio 41.8125346 12.738407\n",
      "Friuli-Venezia Giulia 46.1144263 13.1200182\n",
      "Emilia-Romagna 44.4356999 10.9769062\n",
      "Campania 40.7494545 14.7844134\n",
      "Calabria 39.0303594 16.4177931\n",
      "Basilicata 40.5183548 16.1010034\n",
      "Abruzzo 42.2885598 13.9016475\n",
      "Veneto 45.7365209 11.8626368\n",
      "Valle d Aosta 45.7273163 7.3709747\n",
      "Umbria 42.9908966 12.5780384\n",
      "Toscana 43.3551056 11.0290795\n",
      "Sicilia 37.4741376 14.0385792\n",
      "Sardegna 40.0615436 8.9798483\n",
      "Provincia Autonoma di Trento 46.1028156 11.2075036\n",
      "Provincia Autonoma di Bolzano 46.6559587 11.4298686\n"
     ]
    }
   ],
   "source": [
    "for d in all_geo_json_d_center:\n",
    "    geo_json_d = json.load(open(\"geo_json_it_center/\"+d))  \n",
    "    # to handle Valle d'Aosta\n",
    "    country_name = (\" \").join(geo_json_d[\"features\"][0]['properties']['name'].split(\"'\"))\n",
    "    # Regione - coordinates\n",
    "    print(country_name, geo_json_d[\"features\"][0][\"geometry\"][\"coordinates\"][1], geo_json_d[\"features\"][0][\"geometry\"][\"coordinates\"][0])"
   ]
  },
  {
   "cell_type": "code",
   "execution_count": 78,
   "metadata": {},
   "outputs": [
    {
     "data": {
      "text/html": [
       "<div style=\"width:100%;\"><div style=\"position:relative;width:100%;height:0;padding-bottom:60%;\"><iframe src=\"data:text/html;charset=utf-8;base64,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\" style=\"position:absolute;width:100%;height:100%;left:0;top:0;border:none !important;\" allowfullscreen webkitallowfullscreen mozallowfullscreen></iframe></div></div>"
      ],
      "text/plain": [
       "<folium.folium.Map at 0x7f27cbd020f0>"
      ]
     },
     "execution_count": 78,
     "metadata": {},
     "output_type": "execute_result"
    }
   ],
   "source": [
    "import folium\n",
    "\n",
    "m = folium.Map([51.5, -0.25], zoom_start=10)\n",
    "\n",
    "test = folium.Html('<b>Hello world</b>', script=True)\n",
    "\n",
    "popup = folium.Popup(test, max_width=2650)\n",
    "w = 5\n",
    "folium.PolyLine(locations=[(51.5, -0.25), (51.55, -0.25)], weight=w, color = 'blue', opacity = .7).add_to(m)\n",
    "folium.PolyLine(locations=[(51.5, -0.25), (51.45, -0.23)], weight=w, color = 'blue', opacity = .7).add_to(m)\n",
    "folium.PolyLine(locations=[(51.5, -0.25), (51.45, -0.26)], weight=w, color = 'blue', opacity = .7).add_to(m)\n",
    "folium.PolyLine(locations=[(51.53, -0.25), (51.52, -0.28)], weight=w, color = 'blue', opacity = .7).add_to(m)\n",
    "folium.Circle(location=[51.55, -0.25], radius=750).add_to(m)\n",
    "# punta - rotation deve essere calcolata in basa all'inclinazione della freccia\n",
    "#folium.RegularPolygonMarker(location=puglia_coordinates, popup='Qualche valore w?', fill_color='blue', color = 'blue', number_of_sides=3, radius=w*3, rotation=-4, opacity = .7).add_to(m)\n",
    "\n",
    "#folium.Marker([51.5, -0.25], popup='Mt. Hood Meadows', icon = folium.Icon(icon='male')).add_to(m)\n",
    "#folium.Icon([51.5, -0.25],color='darkblue', icon_color='white', icon='male', angle=0, prefix='fa').add_to(m)\n",
    "'''folium.RegularPolygonMarker(\n",
    "    location=[51.5, -0.25], popup=popup\n",
    ").add_to(m)'''\n",
    "\n",
    "m"
   ]
  },
  {
   "cell_type": "code",
   "execution_count": 125,
   "metadata": {},
   "outputs": [
    {
     "data": {
      "text/html": [
       "<div style=\"width:100%;\"><div style=\"position:relative;width:100%;height:0;padding-bottom:60%;\"><iframe src=\"data:text/html;charset=utf-8;base64,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\" style=\"position:absolute;width:100%;height:100%;left:0;top:0;border:none !important;\" allowfullscreen webkitallowfullscreen mozallowfullscreen></iframe></div></div>"
      ],
      "text/plain": [
       "<folium.folium.Map at 0x7f27cb518048>"
      ]
     },
     "execution_count": 125,
     "metadata": {},
     "output_type": "execute_result"
    }
   ],
   "source": [
    "logo_url = \"http://www.clker.com/cliparts/i/u/o/c/z/4/stick-figure-man-green-md.png\"\n",
    "logo_url2 = \"http://www.clker.com/cliparts/G/W/U/U/0/1/red-stick-figure-man.svg.med.png\"\n",
    "UCB_lat = 37.5\n",
    "UCB_lon = -122.75\n",
    "\n",
    "map_1 = folium.Map(location=[UCB_lat, UCB_lon], zoom_start=6,\\\n",
    "                      control_scale = True, tiles='Stamen Terrain')\n",
    "\n",
    "icon = folium.features.CustomIcon(logo_url,\\\n",
    "                                  icon_size=(30, 40))\n",
    "icon2 = folium.features.CustomIcon(logo_url2,\\\n",
    "                                  icon_size=(30, 40))\n",
    "\n",
    "# lat, lot = punti più estremi della zona \n",
    "folium.Marker([37.5, -122.75],\n",
    "          popup='Iron man visit Berkeley',\n",
    "          icon=folium.features.CustomIcon(logo_url, icon_size=(30, 40))).add_to(map_1)\n",
    "# lat = lat, lon += .75\n",
    "folium.Marker([37.5, -122],\n",
    "          popup='Iron man visit Berkeley',\n",
    "          icon=folium.features.CustomIcon(logo_url2, icon_size=(30, 40))).add_to(map_1)\n",
    "# lat += .75, lon += .5\n",
    "folium.Marker([38.25, -122.5],\n",
    "          popup='Iron man visit Berkeley',\n",
    "          icon=folium.features.CustomIcon(logo_url, icon_size=(30, 40))).add_to(map_1)\n",
    "# lat = lat, lon += .5\n",
    "folium.Marker([38.25, -121.75],\n",
    "          popup='Iron man visit Berkeley',\n",
    "          icon=folium.features.CustomIcon(logo_url2, icon_size=(30, 40))).add_to(map_1)\n",
    "map_1"
   ]
  },
  {
   "cell_type": "code",
   "execution_count": null,
   "metadata": {},
   "outputs": [],
   "source": []
  },
  {
   "cell_type": "code",
   "execution_count": null,
   "metadata": {},
   "outputs": [],
   "source": []
  }
 ],
 "metadata": {
  "kernelspec": {
   "display_name": "Python 3",
   "language": "python",
   "name": "python3"
  },
  "language_info": {
   "codemirror_mode": {
    "name": "ipython",
    "version": 3
   },
   "file_extension": ".py",
   "mimetype": "text/x-python",
   "name": "python",
   "nbconvert_exporter": "python",
   "pygments_lexer": "ipython3",
   "version": "3.6.3"
  }
 },
 "nbformat": 4,
 "nbformat_minor": 2
}
