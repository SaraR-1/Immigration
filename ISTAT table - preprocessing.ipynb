{
 "cells": [
  {
   "cell_type": "code",
   "execution_count": 10,
   "metadata": {},
   "outputs": [],
   "source": [
    "import pandas as pd\n",
    "import numpy as np\n",
    "from translate import translator\n",
    "import time\n",
    "import random\n",
    "from babel import Locale\n",
    "import json\n",
    "import operator\n",
    "from prompter import yesno"
   ]
  },
  {
   "cell_type": "code",
   "execution_count": 11,
   "metadata": {},
   "outputs": [
    {
     "name": "stdout",
     "output_type": "stream",
     "text": [
      "[nltk_data] Downloading package wordnet to /home/sara/nltk_data...\n",
      "[nltk_data]   Package wordnet is already up-to-date!\n"
     ]
    }
   ],
   "source": [
    "import nltk\n",
    "nltk.download('wordnet')\n",
    "from nltk.corpus import wordnet"
   ]
  },
  {
   "cell_type": "code",
   "execution_count": 16,
   "metadata": {},
   "outputs": [],
   "source": [
    "path = \"Data/\"\n",
    "path_foreigners = \"Resident foreigners on 1st January - Citizenship/resident_foreigners.csv\"\n",
    "path_resident_a2011 = \"Resident population  on 1st January/resident.csv\"\n",
    "path_resident_b2011 = \"Estimated resident population within the borders of the time - Years 2001-2011/resident_before2011.csv\""
   ]
  },
  {
   "cell_type": "code",
   "execution_count": 17,
   "metadata": {},
   "outputs": [
    {
     "data": {
      "text/html": [
       "<div>\n",
       "<style>\n",
       "    .dataframe thead tr:only-child th {\n",
       "        text-align: right;\n",
       "    }\n",
       "\n",
       "    .dataframe thead th {\n",
       "        text-align: left;\n",
       "    }\n",
       "\n",
       "    .dataframe tbody tr th {\n",
       "        vertical-align: top;\n",
       "    }\n",
       "</style>\n",
       "<table border=\"1\" class=\"dataframe\">\n",
       "  <thead>\n",
       "    <tr style=\"text-align: right;\">\n",
       "      <th></th>\n",
       "      <th>Territorio</th>\n",
       "      <th>Cittadinanza</th>\n",
       "      <th>Periodo</th>\n",
       "      <th>Sesso</th>\n",
       "      <th>Numero</th>\n",
       "    </tr>\n",
       "  </thead>\n",
       "  <tbody>\n",
       "    <tr>\n",
       "      <th>0</th>\n",
       "      <td>Italia</td>\n",
       "      <td>Andorra</td>\n",
       "      <td>2003</td>\n",
       "      <td>maschi</td>\n",
       "      <td>5</td>\n",
       "    </tr>\n",
       "    <tr>\n",
       "      <th>1</th>\n",
       "      <td>Italia</td>\n",
       "      <td>Andorra</td>\n",
       "      <td>2004</td>\n",
       "      <td>maschi</td>\n",
       "      <td>2</td>\n",
       "    </tr>\n",
       "    <tr>\n",
       "      <th>2</th>\n",
       "      <td>Italia</td>\n",
       "      <td>Andorra</td>\n",
       "      <td>2005</td>\n",
       "      <td>maschi</td>\n",
       "      <td>1</td>\n",
       "    </tr>\n",
       "    <tr>\n",
       "      <th>3</th>\n",
       "      <td>Italia</td>\n",
       "      <td>Andorra</td>\n",
       "      <td>2006</td>\n",
       "      <td>maschi</td>\n",
       "      <td>1</td>\n",
       "    </tr>\n",
       "    <tr>\n",
       "      <th>4</th>\n",
       "      <td>Italia</td>\n",
       "      <td>Andorra</td>\n",
       "      <td>2007</td>\n",
       "      <td>maschi</td>\n",
       "      <td>2</td>\n",
       "    </tr>\n",
       "  </tbody>\n",
       "</table>\n",
       "</div>"
      ],
      "text/plain": [
       "  Territorio Cittadinanza  Periodo   Sesso  Numero\n",
       "0     Italia      Andorra     2003  maschi       5\n",
       "1     Italia      Andorra     2004  maschi       2\n",
       "2     Italia      Andorra     2005  maschi       1\n",
       "3     Italia      Andorra     2006  maschi       1\n",
       "4     Italia      Andorra     2007  maschi       2"
      ]
     },
     "execution_count": 17,
     "metadata": {},
     "output_type": "execute_result"
    }
   ],
   "source": [
    "resident_foreigners = pd.read_table(path+path_foreigners, sep = \"\\t\")\n",
    "resident_foreigners = resident_foreigners.drop_duplicates()\n",
    "resident_foreigners = resident_foreigners.drop([\"Tipo di indicatore demografico\", \"Flags\"], axis = 1)\n",
    "resident_foreigners.columns = [\"Territorio\", \"Cittadinanza\", \"Periodo\", \"Sesso\", \"Numero\"]\n",
    "resident_foreigners.index = range(len(resident_foreigners))\n",
    "resident_foreigners.head()"
   ]
  },
  {
   "cell_type": "code",
   "execution_count": 21,
   "metadata": {},
   "outputs": [
    {
     "data": {
      "text/html": [
       "<div>\n",
       "<style>\n",
       "    .dataframe thead tr:only-child th {\n",
       "        text-align: right;\n",
       "    }\n",
       "\n",
       "    .dataframe thead th {\n",
       "        text-align: left;\n",
       "    }\n",
       "\n",
       "    .dataframe tbody tr th {\n",
       "        vertical-align: top;\n",
       "    }\n",
       "</style>\n",
       "<table border=\"1\" class=\"dataframe\">\n",
       "  <thead>\n",
       "    <tr style=\"text-align: right;\">\n",
       "      <th></th>\n",
       "      <th>Territorio</th>\n",
       "      <th>Periodo</th>\n",
       "      <th>Sesso</th>\n",
       "      <th>Numero</th>\n",
       "    </tr>\n",
       "  </thead>\n",
       "  <tbody>\n",
       "    <tr>\n",
       "      <th>2484</th>\n",
       "      <td>Italia</td>\n",
       "      <td>2012</td>\n",
       "      <td>maschi</td>\n",
       "      <td>28726599</td>\n",
       "    </tr>\n",
       "    <tr>\n",
       "      <th>2485</th>\n",
       "      <td>Italia</td>\n",
       "      <td>2013</td>\n",
       "      <td>maschi</td>\n",
       "      <td>28889597</td>\n",
       "    </tr>\n",
       "    <tr>\n",
       "      <th>2486</th>\n",
       "      <td>Italia</td>\n",
       "      <td>2014</td>\n",
       "      <td>maschi</td>\n",
       "      <td>29484564</td>\n",
       "    </tr>\n",
       "    <tr>\n",
       "      <th>2487</th>\n",
       "      <td>Italia</td>\n",
       "      <td>2015</td>\n",
       "      <td>maschi</td>\n",
       "      <td>29501590</td>\n",
       "    </tr>\n",
       "    <tr>\n",
       "      <th>2488</th>\n",
       "      <td>Italia</td>\n",
       "      <td>2016</td>\n",
       "      <td>maschi</td>\n",
       "      <td>29456321</td>\n",
       "    </tr>\n",
       "  </tbody>\n",
       "</table>\n",
       "</div>"
      ],
      "text/plain": [
       "     Territorio  Periodo   Sesso    Numero\n",
       "2484     Italia     2012  maschi  28726599\n",
       "2485     Italia     2013  maschi  28889597\n",
       "2486     Italia     2014  maschi  29484564\n",
       "2487     Italia     2015  maschi  29501590\n",
       "2488     Italia     2016  maschi  29456321"
      ]
     },
     "execution_count": 21,
     "metadata": {},
     "output_type": "execute_result"
    }
   ],
   "source": [
    "# Is not useful to keep the info about the ages, since it's an info not available for the foreigners table\n",
    "resident_after = pd.read_table(path+path_resident_a2011)\n",
    "resident_after = resident_after.drop_duplicates()\n",
    "resident_after = resident_after[resident_after[\"Età\"] == \"totale\"]\n",
    "resident_after = resident_after.drop([\"Tipo di indicatore demografico\", \"Stato civile\", \"Età\", \"Flags\"], axis = 1)\n",
    "resident_after.columns = [\"Territorio\", \"Periodo\", \"Sesso\", \"Numero\"]\n",
    "resident_after.head()"
   ]
  },
  {
   "cell_type": "code",
   "execution_count": 22,
   "metadata": {},
   "outputs": [
    {
     "data": {
      "text/html": [
       "<div>\n",
       "<style>\n",
       "    .dataframe thead tr:only-child th {\n",
       "        text-align: right;\n",
       "    }\n",
       "\n",
       "    .dataframe thead th {\n",
       "        text-align: left;\n",
       "    }\n",
       "\n",
       "    .dataframe tbody tr th {\n",
       "        vertical-align: top;\n",
       "    }\n",
       "</style>\n",
       "<table border=\"1\" class=\"dataframe\">\n",
       "  <thead>\n",
       "    <tr style=\"text-align: right;\">\n",
       "      <th></th>\n",
       "      <th>Territorio</th>\n",
       "      <th>Periodo</th>\n",
       "      <th>Sesso</th>\n",
       "      <th>Numero</th>\n",
       "    </tr>\n",
       "  </thead>\n",
       "  <tbody>\n",
       "    <tr>\n",
       "      <th>4563</th>\n",
       "      <td>Italia</td>\n",
       "      <td>2003</td>\n",
       "      <td>maschi</td>\n",
       "      <td>27658649</td>\n",
       "    </tr>\n",
       "    <tr>\n",
       "      <th>4564</th>\n",
       "      <td>Italia</td>\n",
       "      <td>2004</td>\n",
       "      <td>maschi</td>\n",
       "      <td>27845601</td>\n",
       "    </tr>\n",
       "    <tr>\n",
       "      <th>4565</th>\n",
       "      <td>Italia</td>\n",
       "      <td>2005</td>\n",
       "      <td>maschi</td>\n",
       "      <td>28044210</td>\n",
       "    </tr>\n",
       "    <tr>\n",
       "      <th>4566</th>\n",
       "      <td>Italia</td>\n",
       "      <td>2006</td>\n",
       "      <td>maschi</td>\n",
       "      <td>28138577</td>\n",
       "    </tr>\n",
       "    <tr>\n",
       "      <th>4567</th>\n",
       "      <td>Italia</td>\n",
       "      <td>2007</td>\n",
       "      <td>maschi</td>\n",
       "      <td>28212234</td>\n",
       "    </tr>\n",
       "  </tbody>\n",
       "</table>\n",
       "</div>"
      ],
      "text/plain": [
       "     Territorio  Periodo   Sesso    Numero\n",
       "4563     Italia     2003  maschi  27658649\n",
       "4564     Italia     2004  maschi  27845601\n",
       "4565     Italia     2005  maschi  28044210\n",
       "4566     Italia     2006  maschi  28138577\n",
       "4567     Italia     2007  maschi  28212234"
      ]
     },
     "execution_count": 22,
     "metadata": {},
     "output_type": "execute_result"
    }
   ],
   "source": [
    "# Is not useful to keep the info about the ages, since it's an info not available for the foreigners table\n",
    "resident_before = pd.read_table(path+path_resident_b2011)\n",
    "resident_before = resident_before.drop_duplicates()\n",
    "resident_before = resident_before[resident_before[\"Età\"] == \"totale\"]\n",
    "resident_before = resident_before.drop([\"Tipo dato\", \"Cittadinanza\", \"Età\", \"Flags\"], axis = 1)\n",
    "# change columns order\n",
    "resident_before = resident_before[['Territorio', 'Seleziona periodo', 'Sesso', '0']]\n",
    "resident_before.columns = [\"Territorio\", \"Periodo\", \"Sesso\", \"Numero\"]\n",
    "resident_before.head()"
   ]
  },
  {
   "cell_type": "code",
   "execution_count": 23,
   "metadata": {},
   "outputs": [
    {
     "data": {
      "text/html": [
       "<div>\n",
       "<style>\n",
       "    .dataframe thead tr:only-child th {\n",
       "        text-align: right;\n",
       "    }\n",
       "\n",
       "    .dataframe thead th {\n",
       "        text-align: left;\n",
       "    }\n",
       "\n",
       "    .dataframe tbody tr th {\n",
       "        vertical-align: top;\n",
       "    }\n",
       "</style>\n",
       "<table border=\"1\" class=\"dataframe\">\n",
       "  <thead>\n",
       "    <tr style=\"text-align: right;\">\n",
       "      <th></th>\n",
       "      <th>Territorio</th>\n",
       "      <th>Periodo</th>\n",
       "      <th>Sesso</th>\n",
       "      <th>Numero</th>\n",
       "    </tr>\n",
       "  </thead>\n",
       "  <tbody>\n",
       "    <tr>\n",
       "      <th>0</th>\n",
       "      <td>Italia</td>\n",
       "      <td>2003</td>\n",
       "      <td>maschi</td>\n",
       "      <td>27658649</td>\n",
       "    </tr>\n",
       "    <tr>\n",
       "      <th>1</th>\n",
       "      <td>Italia</td>\n",
       "      <td>2004</td>\n",
       "      <td>maschi</td>\n",
       "      <td>27845601</td>\n",
       "    </tr>\n",
       "    <tr>\n",
       "      <th>2</th>\n",
       "      <td>Italia</td>\n",
       "      <td>2005</td>\n",
       "      <td>maschi</td>\n",
       "      <td>28044210</td>\n",
       "    </tr>\n",
       "    <tr>\n",
       "      <th>3</th>\n",
       "      <td>Italia</td>\n",
       "      <td>2006</td>\n",
       "      <td>maschi</td>\n",
       "      <td>28138577</td>\n",
       "    </tr>\n",
       "    <tr>\n",
       "      <th>4</th>\n",
       "      <td>Italia</td>\n",
       "      <td>2007</td>\n",
       "      <td>maschi</td>\n",
       "      <td>28212234</td>\n",
       "    </tr>\n",
       "  </tbody>\n",
       "</table>\n",
       "</div>"
      ],
      "text/plain": [
       "  Territorio  Periodo   Sesso    Numero\n",
       "0     Italia     2003  maschi  27658649\n",
       "1     Italia     2004  maschi  27845601\n",
       "2     Italia     2005  maschi  28044210\n",
       "3     Italia     2006  maschi  28138577\n",
       "4     Italia     2007  maschi  28212234"
      ]
     },
     "execution_count": 23,
     "metadata": {},
     "output_type": "execute_result"
    }
   ],
   "source": [
    "# concat the the tables\n",
    "resident = resident_before.append(resident_after, ignore_index=True)\n",
    "resident.index = range(len(resident))\n",
    "resident.head()"
   ]
  },
  {
   "cell_type": "code",
   "execution_count": 24,
   "metadata": {},
   "outputs": [
    {
     "data": {
      "text/html": [
       "<div>\n",
       "<style>\n",
       "    .dataframe thead tr:only-child th {\n",
       "        text-align: right;\n",
       "    }\n",
       "\n",
       "    .dataframe thead th {\n",
       "        text-align: left;\n",
       "    }\n",
       "\n",
       "    .dataframe tbody tr th {\n",
       "        vertical-align: top;\n",
       "    }\n",
       "</style>\n",
       "<table border=\"1\" class=\"dataframe\">\n",
       "  <thead>\n",
       "    <tr style=\"text-align: right;\">\n",
       "      <th></th>\n",
       "      <th>Territorio</th>\n",
       "      <th>Periodo</th>\n",
       "      <th>Sesso</th>\n",
       "      <th>Numero</th>\n",
       "    </tr>\n",
       "  </thead>\n",
       "  <tbody>\n",
       "    <tr>\n",
       "      <th>3992</th>\n",
       "      <td>Lombardia</td>\n",
       "      <td>2017</td>\n",
       "      <td>maschi</td>\n",
       "      <td>4894363</td>\n",
       "    </tr>\n",
       "    <tr>\n",
       "      <th>3998</th>\n",
       "      <td>Lombardia</td>\n",
       "      <td>2017</td>\n",
       "      <td>femmine</td>\n",
       "      <td>5124803</td>\n",
       "    </tr>\n",
       "    <tr>\n",
       "      <th>4004</th>\n",
       "      <td>Lombardia</td>\n",
       "      <td>2017</td>\n",
       "      <td>totale</td>\n",
       "      <td>10019166</td>\n",
       "    </tr>\n",
       "  </tbody>\n",
       "</table>\n",
       "</div>"
      ],
      "text/plain": [
       "     Territorio  Periodo    Sesso    Numero\n",
       "3992  Lombardia     2017   maschi   4894363\n",
       "3998  Lombardia     2017  femmine   5124803\n",
       "4004  Lombardia     2017   totale  10019166"
      ]
     },
     "execution_count": 24,
     "metadata": {},
     "output_type": "execute_result"
    }
   ],
   "source": [
    "resident[(resident[\"Territorio\"] == \"Lombardia\") & (resident[\"Periodo\"] == 2017)]"
   ]
  },
  {
   "cell_type": "code",
   "execution_count": 25,
   "metadata": {},
   "outputs": [
    {
     "data": {
      "text/html": [
       "<div>\n",
       "<style>\n",
       "    .dataframe thead tr:only-child th {\n",
       "        text-align: right;\n",
       "    }\n",
       "\n",
       "    .dataframe thead th {\n",
       "        text-align: left;\n",
       "    }\n",
       "\n",
       "    .dataframe tbody tr th {\n",
       "        vertical-align: top;\n",
       "    }\n",
       "</style>\n",
       "<table border=\"1\" class=\"dataframe\">\n",
       "  <thead>\n",
       "    <tr style=\"text-align: right;\">\n",
       "      <th></th>\n",
       "      <th>Provincia</th>\n",
       "      <th>Regione</th>\n",
       "    </tr>\n",
       "  </thead>\n",
       "  <tbody>\n",
       "    <tr>\n",
       "      <th>0</th>\n",
       "      <td>Torino</td>\n",
       "      <td>Piemonte</td>\n",
       "    </tr>\n",
       "    <tr>\n",
       "      <th>1</th>\n",
       "      <td>Vercelli</td>\n",
       "      <td>Piemonte</td>\n",
       "    </tr>\n",
       "    <tr>\n",
       "      <th>2</th>\n",
       "      <td>Novara</td>\n",
       "      <td>Piemonte</td>\n",
       "    </tr>\n",
       "    <tr>\n",
       "      <th>3</th>\n",
       "      <td>Cuneo</td>\n",
       "      <td>Piemonte</td>\n",
       "    </tr>\n",
       "    <tr>\n",
       "      <th>4</th>\n",
       "      <td>Asti</td>\n",
       "      <td>Piemonte</td>\n",
       "    </tr>\n",
       "  </tbody>\n",
       "</table>\n",
       "</div>"
      ],
      "text/plain": [
       "  Provincia   Regione\n",
       "0    Torino  Piemonte\n",
       "1  Vercelli  Piemonte\n",
       "2    Novara  Piemonte\n",
       "3     Cuneo  Piemonte\n",
       "4      Asti  Piemonte"
      ]
     },
     "execution_count": 25,
     "metadata": {},
     "output_type": "execute_result"
    }
   ],
   "source": [
    "provincia_regione = pd.read_table(path+\"regioni.csv\", sep = \"\\t\")\n",
    "provincia_regione.head()"
   ]
  },
  {
   "cell_type": "code",
   "execution_count": 26,
   "metadata": {},
   "outputs": [
    {
     "data": {
      "text/html": [
       "<div>\n",
       "<style>\n",
       "    .dataframe thead tr:only-child th {\n",
       "        text-align: right;\n",
       "    }\n",
       "\n",
       "    .dataframe thead th {\n",
       "        text-align: left;\n",
       "    }\n",
       "\n",
       "    .dataframe tbody tr th {\n",
       "        vertical-align: top;\n",
       "    }\n",
       "</style>\n",
       "<table border=\"1\" class=\"dataframe\">\n",
       "  <thead>\n",
       "    <tr style=\"text-align: right;\">\n",
       "      <th></th>\n",
       "      <th>Regione</th>\n",
       "      <th>Zona</th>\n",
       "    </tr>\n",
       "  </thead>\n",
       "  <tbody>\n",
       "    <tr>\n",
       "      <th>0</th>\n",
       "      <td>Abruzzo</td>\n",
       "      <td>Sud</td>\n",
       "    </tr>\n",
       "    <tr>\n",
       "      <th>1</th>\n",
       "      <td>Basilicata</td>\n",
       "      <td>Sud</td>\n",
       "    </tr>\n",
       "    <tr>\n",
       "      <th>2</th>\n",
       "      <td>Calabria</td>\n",
       "      <td>Sud</td>\n",
       "    </tr>\n",
       "    <tr>\n",
       "      <th>3</th>\n",
       "      <td>Campania</td>\n",
       "      <td>Sud</td>\n",
       "    </tr>\n",
       "    <tr>\n",
       "      <th>4</th>\n",
       "      <td>Emilia-Romagna</td>\n",
       "      <td>Nord-est</td>\n",
       "    </tr>\n",
       "  </tbody>\n",
       "</table>\n",
       "</div>"
      ],
      "text/plain": [
       "          Regione      Zona\n",
       "0         Abruzzo       Sud\n",
       "1      Basilicata       Sud\n",
       "2        Calabria       Sud\n",
       "3        Campania       Sud\n",
       "4  Emilia-Romagna  Nord-est"
      ]
     },
     "execution_count": 26,
     "metadata": {},
     "output_type": "execute_result"
    }
   ],
   "source": [
    "regione_zona = pd.read_table(path+\"territori.csv\", sep = \"\\t\")\n",
    "regione_zona.head()"
   ]
  },
  {
   "cell_type": "markdown",
   "metadata": {},
   "source": [
    "Check if the aggragation is right.. that is: \n",
    "- the sum over the municipalities (comuni) conrespond to the aggragation value at the region (regione) level;\n",
    "- the sum over the regions conrespond to the aggregation value at the zone (nord, sud, etc..) level;\n",
    "- for each tuple (Territorio, Cittadinanza, Anno) if maschio + femmina = totale.\n",
    "\n",
    "Check both the resident and the resident_foreigners"
   ]
  },
  {
   "cell_type": "code",
   "execution_count": 27,
   "metadata": {},
   "outputs": [],
   "source": [
    "regioni = list(set(regione_zona[\"Regione\"]))\n",
    "zone = list(set(regione_zona[\"Zona\"]))\n",
    "territori = list(set(resident_foreigners[\"Territorio\"]))\n",
    "years = list(set(resident_foreigners[\"Periodo\"]))\n",
    "origine = list(set(resident_foreigners[\"Cittadinanza\"]))"
   ]
  },
  {
   "cell_type": "markdown",
   "metadata": {},
   "source": [
    "### Resident Foreigners Check"
   ]
  },
  {
   "cell_type": "code",
   "execution_count": 28,
   "metadata": {},
   "outputs": [
    {
     "name": "stdout",
     "output_type": "stream",
     "text": [
      "Region-Aggregation works on 'resident_foreigners'!\n"
     ]
    }
   ],
   "source": [
    "temp = resident_foreigners.copy()\n",
    "# keep only the municipalities and the region data\n",
    "territori_1 = list(set(list(provincia_regione[\"Provincia\"]) + list(provincia_regione[\"Regione\"])))\n",
    "temp = temp.loc[[i in territori_1 for i in temp[\"Territorio\"]]]\n",
    "# do not consider the Valle d'Aosta / Vallée d'Aoste data since the aggregate and the singular data coincide\n",
    "temp = temp[temp[\"Territorio\"] != \"Valle d'Aosta / Vallée d'Aoste\"]\n",
    "# change the sign to the \"total\" elements\n",
    "temp[\"Numero\"][[i in list(set(provincia_regione[\"Regione\"])) for i in temp[\"Territorio\"]]] = -temp[\"Numero\"][[i in list(set(provincia_regione[\"Regione\"])) for i in temp[\"Territorio\"]]]\n",
    "\n",
    "regioni = list(set(provincia_regione[\"Regione\"]))\n",
    "province = list(set(provincia_regione[\"Provincia\"]))\n",
    "# add the regione field, so we can aggregate on it\n",
    "temp[\"Regione\"] = [provincia_regione[\"Regione\"][provincia_regione[\"Provincia\"] == i].values[0] if i in province else i for i in temp[\"Territorio\"]]\n",
    "\n",
    "# sum all over the same (Regione, Cittadinanza, Periodo, Sesso)\n",
    "temp['totale'] = temp.groupby([\"Regione\", \"Cittadinanza\", \"Periodo\", \"Sesso\"])['Numero'].transform(np.sum)\n",
    "\n",
    "# the sum should always be 0\n",
    "if len(list(set(temp[\"totale\"]))) == 1 and list(set(temp[\"totale\"]))[0] == 0:\n",
    "    print(\"Region-Aggregation works on 'resident_foreigners'!\")"
   ]
  },
  {
   "cell_type": "code",
   "execution_count": 29,
   "metadata": {},
   "outputs": [
    {
     "name": "stdout",
     "output_type": "stream",
     "text": [
      "Zone-Aggregation works on 'resident_foreigners'!\n"
     ]
    }
   ],
   "source": [
    "temp = resident_foreigners.copy()\n",
    "# keep only the municipalities and the region data\n",
    "territori_1 = list(set(list(regione_zona[\"Regione\"]) + list(regione_zona[\"Zona\"])))\n",
    "temp = temp.loc[[i in territori_1 for i in temp[\"Territorio\"]]]\n",
    "\n",
    "# change the sign to the \"total\" elements\n",
    "temp[\"Numero\"][[i in list(set(regione_zona[\"Zona\"])) for i in temp[\"Territorio\"]]] = -temp[\"Numero\"][[i in list(set(regione_zona[\"Zona\"])) for i in temp[\"Territorio\"]]]\n",
    "\n",
    "regioni = list(set(provincia_regione[\"Regione\"]))\n",
    "zone = list(set(regione_zona[\"Zona\"]))\n",
    "\n",
    "# add the regione field, so we can aggregate on it\n",
    "temp[\"Zona\"] = [regione_zona[\"Zona\"][regione_zona[\"Regione\"] == i].values[0] if i in regioni else i for i in temp[\"Territorio\"]]\n",
    "\n",
    "# sum all over the same (Regione, Cittadinanza, Periodo, Sesso)\n",
    "temp['totale'] = temp.groupby([\"Zona\", \"Cittadinanza\", \"Periodo\", \"Sesso\"])['Numero'].transform(np.sum)\n",
    "\n",
    "# the sum should always be 0\n",
    "if len(list(set(temp[\"totale\"]))) == 1 and list(set(temp[\"totale\"]))[0] == 0:\n",
    "    print(\"Zone-Aggregation works on 'resident_foreigners'!\")"
   ]
  },
  {
   "cell_type": "code",
   "execution_count": 30,
   "metadata": {},
   "outputs": [
    {
     "name": "stderr",
     "output_type": "stream",
     "text": [
      "/home/sara/myenv/lib64/python3.6/site-packages/ipykernel_launcher.py:3: SettingWithCopyWarning: \n",
      "A value is trying to be set on a copy of a slice from a DataFrame\n",
      "\n",
      "See the caveats in the documentation: http://pandas.pydata.org/pandas-docs/stable/indexing.html#indexing-view-versus-copy\n",
      "  This is separate from the ipykernel package so we can avoid doing imports until\n"
     ]
    },
    {
     "name": "stdout",
     "output_type": "stream",
     "text": [
      "Aggregation maschio + femmina works on 'resident_foreigners'!\n"
     ]
    }
   ],
   "source": [
    "temp = resident_foreigners.copy()\n",
    "# change the sign to the \"total\" elements\n",
    "temp[\"Numero\"][temp[temp[\"Sesso\"] == \"totale\"].index] = -temp[\"Numero\"][temp[temp[\"Sesso\"] == \"totale\"].index]\n",
    "# sum all over the same (Territorio, Cittadinanza, Periodo)\n",
    "temp['totale'] = temp.groupby([\"Territorio\", \"Cittadinanza\", \"Periodo\"])['Numero'].transform(np.sum)\n",
    "\n",
    "# the sum should always be 0\n",
    "if len(list(set(temp[\"totale\"]))) == 1 and list(set(temp[\"totale\"]))[0] == 0:\n",
    "    print(\"Aggregation maschio + femmina works on 'resident_foreigners'!\")"
   ]
  },
  {
   "cell_type": "markdown",
   "metadata": {},
   "source": [
    "### Resident Check"
   ]
  },
  {
   "cell_type": "code",
   "execution_count": 31,
   "metadata": {},
   "outputs": [
    {
     "name": "stdout",
     "output_type": "stream",
     "text": [
      "Region-Aggregation works on 'resident'!\n"
     ]
    }
   ],
   "source": [
    "temp = resident.copy()\n",
    "# keep only the municipalities and the region data\n",
    "territori_1 = list(set(list(provincia_regione[\"Provincia\"]) + list(provincia_regione[\"Regione\"])))\n",
    "temp = temp.loc[[i in territori_1 for i in temp[\"Territorio\"]]]\n",
    "# do not consider the Valle d'Aosta / Vallée d'Aoste data since the aggregate and the singular data coincide\n",
    "temp = temp[temp[\"Territorio\"] != \"Valle d'Aosta / Vallée d'Aoste\"]\n",
    "# change the sign to the \"total\" elements\n",
    "temp[\"Numero\"][[i in list(set(provincia_regione[\"Regione\"])) for i in temp[\"Territorio\"]]] = -temp[\"Numero\"][[i in list(set(provincia_regione[\"Regione\"])) for i in temp[\"Territorio\"]]]\n",
    "\n",
    "regioni = list(set(provincia_regione[\"Regione\"]))\n",
    "province = list(set(provincia_regione[\"Provincia\"]))\n",
    "# add the regione field, so we can aggregate on it\n",
    "temp[\"Regione\"] = [provincia_regione[\"Regione\"][provincia_regione[\"Provincia\"] == i].values[0] if i in province else i for i in temp[\"Territorio\"]]\n",
    "\n",
    "# sum all over the same (Regione, Periodo, Sesso)\n",
    "temp['totale'] = temp.groupby([\"Regione\", \"Periodo\", \"Sesso\"])['Numero'].transform(np.sum)\n",
    "\n",
    "# the sum should always be 0\n",
    "if len(list(set(temp[\"totale\"]))) == 1 and list(set(temp[\"totale\"]))[0] == 0:\n",
    "    print(\"Region-Aggregation works on 'resident'!\")"
   ]
  },
  {
   "cell_type": "code",
   "execution_count": 32,
   "metadata": {},
   "outputs": [
    {
     "name": "stdout",
     "output_type": "stream",
     "text": [
      "Zone-Aggregation works on 'resident'!\n"
     ]
    }
   ],
   "source": [
    "temp = resident.copy()\n",
    "# keep only the region and the zone data\n",
    "territori_1 = list(set(list(regione_zona[\"Regione\"]) + list(regione_zona[\"Zona\"])))\n",
    "temp = temp.loc[[i in territori_1 for i in temp[\"Territorio\"]]]\n",
    "\n",
    "# change the sign to the \"total\" elements\n",
    "temp[\"Numero\"][[i in list(set(regione_zona[\"Zona\"])) for i in temp[\"Territorio\"]]] = -temp[\"Numero\"][[i in list(set(regione_zona[\"Zona\"])) for i in temp[\"Territorio\"]]]\n",
    "\n",
    "regioni = list(set(provincia_regione[\"Regione\"]))\n",
    "zone = list(set(regione_zona[\"Zona\"]))\n",
    "\n",
    "# add the regione field, so we can aggregate on it\n",
    "temp[\"Zona\"] = [regione_zona[\"Zona\"][regione_zona[\"Regione\"] == i].values[0] if i in regioni else i for i in temp[\"Territorio\"]]\n",
    "\n",
    "# sum all over the same (Regione, Periodo, Sesso)\n",
    "temp['totale'] = temp.groupby([\"Zona\", \"Periodo\", \"Sesso\"])['Numero'].transform(np.sum)\n",
    "\n",
    "# the sum should always be 0\n",
    "if len(list(set(temp[\"totale\"]))) == 1 and list(set(temp[\"totale\"]))[0] == 0:\n",
    "    print(\"Zone-Aggregation works on 'resident'!\")"
   ]
  },
  {
   "cell_type": "code",
   "execution_count": 33,
   "metadata": {},
   "outputs": [
    {
     "name": "stdout",
     "output_type": "stream",
     "text": [
      "Aggregation maschio + femmina works on 'resident'!\n"
     ]
    },
    {
     "name": "stderr",
     "output_type": "stream",
     "text": [
      "/home/sara/myenv/lib64/python3.6/site-packages/ipykernel_launcher.py:3: SettingWithCopyWarning: \n",
      "A value is trying to be set on a copy of a slice from a DataFrame\n",
      "\n",
      "See the caveats in the documentation: http://pandas.pydata.org/pandas-docs/stable/indexing.html#indexing-view-versus-copy\n",
      "  This is separate from the ipykernel package so we can avoid doing imports until\n"
     ]
    }
   ],
   "source": [
    "temp = resident.copy()\n",
    "# change the sign to the \"total\" elements\n",
    "temp[\"Numero\"][temp[temp[\"Sesso\"] == \"totale\"].index] = -temp[\"Numero\"][temp[temp[\"Sesso\"] == \"totale\"].index]\n",
    "# sum all over the same (Territorio, Periodo)\n",
    "temp['totale'] = temp.groupby([\"Territorio\", \"Periodo\"])['Numero'].transform(np.sum)\n",
    "\n",
    "# the sum should always be 0\n",
    "if len(list(set(temp[\"totale\"]))) == 1 and list(set(temp[\"totale\"]))[0] == 0:\n",
    "    print(\"Aggregation maschio + femmina works on 'resident'!\")"
   ]
  },
  {
   "cell_type": "markdown",
   "metadata": {},
   "source": [
    "The aggragation checks are verified. Thus, it's possible to drop duplications to get the normal form."
   ]
  },
  {
   "cell_type": "markdown",
   "metadata": {},
   "source": [
    "### .. to Normal Form"
   ]
  },
  {
   "cell_type": "code",
   "execution_count": 34,
   "metadata": {},
   "outputs": [],
   "source": [
    "resident_foreigners_norm = resident_foreigners.copy() \n",
    "\n",
    "# drop region and zone data\n",
    "territori_1 = list(regione_zona[\"Regione\"].values) + list(regione_zona[\"Zona\"].values) + [\"Italia\"]\n",
    "# Valle d'Aosta / Vallée d'Aoste it's the only province for Valle d'Aosta / Vallée d'Aoste\n",
    "territori_1.remove(\"Valle d'Aosta / Vallée d'Aoste\")\n",
    "resident_foreigners_norm = resident_foreigners_norm.loc[[i not in territori_1 for i in resident_foreigners_norm[\"Territorio\"]]]\n",
    "resident_foreigners_norm = resident_foreigners_norm[resident_foreigners_norm[\"Cittadinanza\"] != \"Mondo\"]\n",
    "# drop total (mashio+femmina) data\n",
    "resident_foreigners_norm = resident_foreigners_norm[resident_foreigners_norm[\"Sesso\"] != \"totale\"]\n",
    "\n",
    "resident_foreigners_norm.index = range(len(resident_foreigners_norm))"
   ]
  },
  {
   "cell_type": "code",
   "execution_count": 35,
   "metadata": {},
   "outputs": [],
   "source": [
    "resident_norm = resident.copy() \n",
    "\n",
    "# drop region and zone data\n",
    "territori_1 = list(set(resident_foreigners_norm[\"Territorio\"]))\n",
    "resident_norm = resident_norm.loc[[i in territori_1 for i in resident_norm[\"Territorio\"]]]\n",
    "# drop total (mashio+femmina) data\n",
    "resident_norm = resident_norm[resident_norm[\"Sesso\"] != \"totale\"]\n",
    "\n",
    "resident_norm.index = range(len(resident_norm))"
   ]
  },
  {
   "cell_type": "code",
   "execution_count": 36,
   "metadata": {},
   "outputs": [],
   "source": [
    "# Rename the columns\n",
    "resident_norm.rename(columns = {\"Territorio\": \"Province\", \"Periodo\": \"Year\", \"Sesso\": \"Gender\", \"Numero\": \"Value\"}, inplace=True)\n",
    "resident_foreigners_norm.rename(columns = {\"Territorio\": \"Province\", \"Cittadinanza\": \"Country\", \"Periodo\": \"Year\", \n",
    "                                           \"Sesso\": \"Gender\", \"Numero\": \"Value\"}, inplace=True)\n",
    "# Rename italian contents (gender col)\n",
    "resident_foreigners_norm[\"Gender\"] = resident_foreigners_norm[\"Gender\"].replace({\"maschi\": \"male\", \"femmine\": \"female\"})\n",
    "resident_norm[\"Gender\"] = resident_norm[\"Gender\"].replace({\"maschi\": \"male\", \"femmine\": \"female\"})"
   ]
  },
  {
   "cell_type": "code",
   "execution_count": 37,
   "metadata": {},
   "outputs": [
    {
     "data": {
      "text/html": [
       "<div>\n",
       "<style>\n",
       "    .dataframe thead tr:only-child th {\n",
       "        text-align: right;\n",
       "    }\n",
       "\n",
       "    .dataframe thead th {\n",
       "        text-align: left;\n",
       "    }\n",
       "\n",
       "    .dataframe tbody tr th {\n",
       "        vertical-align: top;\n",
       "    }\n",
       "</style>\n",
       "<table border=\"1\" class=\"dataframe\">\n",
       "  <thead>\n",
       "    <tr style=\"text-align: right;\">\n",
       "      <th></th>\n",
       "      <th>Province</th>\n",
       "      <th>Country</th>\n",
       "      <th>Year</th>\n",
       "      <th>Gender</th>\n",
       "      <th>Value</th>\n",
       "    </tr>\n",
       "  </thead>\n",
       "  <tbody>\n",
       "    <tr>\n",
       "      <th>0</th>\n",
       "      <td>Biella</td>\n",
       "      <td>Andorra</td>\n",
       "      <td>2005</td>\n",
       "      <td>male</td>\n",
       "      <td>1</td>\n",
       "    </tr>\n",
       "    <tr>\n",
       "      <th>1</th>\n",
       "      <td>Biella</td>\n",
       "      <td>Andorra</td>\n",
       "      <td>2005</td>\n",
       "      <td>female</td>\n",
       "      <td>0</td>\n",
       "    </tr>\n",
       "    <tr>\n",
       "      <th>2</th>\n",
       "      <td>Novara</td>\n",
       "      <td>Andorra</td>\n",
       "      <td>2005</td>\n",
       "      <td>male</td>\n",
       "      <td>0</td>\n",
       "    </tr>\n",
       "    <tr>\n",
       "      <th>3</th>\n",
       "      <td>Novara</td>\n",
       "      <td>Andorra</td>\n",
       "      <td>2005</td>\n",
       "      <td>female</td>\n",
       "      <td>2</td>\n",
       "    </tr>\n",
       "    <tr>\n",
       "      <th>4</th>\n",
       "      <td>Alessandria</td>\n",
       "      <td>Andorra</td>\n",
       "      <td>2017</td>\n",
       "      <td>male</td>\n",
       "      <td>0</td>\n",
       "    </tr>\n",
       "  </tbody>\n",
       "</table>\n",
       "</div>"
      ],
      "text/plain": [
       "      Province  Country  Year  Gender  Value\n",
       "0       Biella  Andorra  2005    male      1\n",
       "1       Biella  Andorra  2005  female      0\n",
       "2       Novara  Andorra  2005    male      0\n",
       "3       Novara  Andorra  2005  female      2\n",
       "4  Alessandria  Andorra  2017    male      0"
      ]
     },
     "execution_count": 37,
     "metadata": {},
     "output_type": "execute_result"
    }
   ],
   "source": [
    "resident_foreigners_norm.head()"
   ]
  },
  {
   "cell_type": "code",
   "execution_count": 38,
   "metadata": {},
   "outputs": [
    {
     "data": {
      "text/html": [
       "<div>\n",
       "<style>\n",
       "    .dataframe thead tr:only-child th {\n",
       "        text-align: right;\n",
       "    }\n",
       "\n",
       "    .dataframe thead th {\n",
       "        text-align: left;\n",
       "    }\n",
       "\n",
       "    .dataframe tbody tr th {\n",
       "        vertical-align: top;\n",
       "    }\n",
       "</style>\n",
       "<table border=\"1\" class=\"dataframe\">\n",
       "  <thead>\n",
       "    <tr style=\"text-align: right;\">\n",
       "      <th></th>\n",
       "      <th>Province</th>\n",
       "      <th>Year</th>\n",
       "      <th>Gender</th>\n",
       "      <th>Value</th>\n",
       "    </tr>\n",
       "  </thead>\n",
       "  <tbody>\n",
       "    <tr>\n",
       "      <th>0</th>\n",
       "      <td>Torino</td>\n",
       "      <td>2003</td>\n",
       "      <td>male</td>\n",
       "      <td>1045816</td>\n",
       "    </tr>\n",
       "    <tr>\n",
       "      <th>1</th>\n",
       "      <td>Torino</td>\n",
       "      <td>2004</td>\n",
       "      <td>male</td>\n",
       "      <td>1054784</td>\n",
       "    </tr>\n",
       "    <tr>\n",
       "      <th>2</th>\n",
       "      <td>Torino</td>\n",
       "      <td>2005</td>\n",
       "      <td>male</td>\n",
       "      <td>1058774</td>\n",
       "    </tr>\n",
       "    <tr>\n",
       "      <th>3</th>\n",
       "      <td>Torino</td>\n",
       "      <td>2006</td>\n",
       "      <td>male</td>\n",
       "      <td>1060448</td>\n",
       "    </tr>\n",
       "    <tr>\n",
       "      <th>4</th>\n",
       "      <td>Torino</td>\n",
       "      <td>2007</td>\n",
       "      <td>male</td>\n",
       "      <td>1062274</td>\n",
       "    </tr>\n",
       "  </tbody>\n",
       "</table>\n",
       "</div>"
      ],
      "text/plain": [
       "  Province  Year Gender    Value\n",
       "0   Torino  2003   male  1045816\n",
       "1   Torino  2004   male  1054784\n",
       "2   Torino  2005   male  1058774\n",
       "3   Torino  2006   male  1060448\n",
       "4   Torino  2007   male  1062274"
      ]
     },
     "execution_count": 38,
     "metadata": {},
     "output_type": "execute_result"
    }
   ],
   "source": [
    "resident_norm.head()"
   ]
  },
  {
   "cell_type": "markdown",
   "metadata": {},
   "source": [
    "Problems with the data coherence: before 2008 we have \"Serbi and Montenegro\" after we have \"Serbia\" and \"Montenegro\" as different countries. In 2006 Montenegro proclamations its independence after a referendum."
   ]
  },
  {
   "cell_type": "code",
   "execution_count": 39,
   "metadata": {},
   "outputs": [
    {
     "name": "stdout",
     "output_type": "stream",
     "text": [
      "We have 110 different provinces.\n"
     ]
    }
   ],
   "source": [
    "print(\"We have %d different provinces.\" %len(list(set(resident_foreigners_norm[\"Province\"]))))"
   ]
  },
  {
   "cell_type": "code",
   "execution_count": 40,
   "metadata": {},
   "outputs": [
    {
     "name": "stdout",
     "output_type": "stream",
     "text": [
      "We have 110 different provinces.\n"
     ]
    }
   ],
   "source": [
    "print(\"We have %d different provinces.\" %len(list(set(resident_norm[\"Province\"]))))"
   ]
  },
  {
   "cell_type": "code",
   "execution_count": 41,
   "metadata": {},
   "outputs": [],
   "source": [
    "# dump\n",
    "resident_norm.to_csv(\"Data/resident_norm.csv\", sep = \"\\t\", index = False)\n",
    "resident_norm.to_csv(\"Data_final/resident_norm.csv\", sep = \"\\t\", index = False)\n",
    "resident_foreigners_norm.to_csv(\"Data/resident_foreigners_norm.csv\",  sep = \"\\t\", index = False)"
   ]
  },
  {
   "cell_type": "raw",
   "metadata": {},
   "source": []
  }
 ],
 "metadata": {
  "kernelspec": {
   "display_name": "Python 3",
   "language": "python",
   "name": "python3"
  },
  "language_info": {
   "codemirror_mode": {
    "name": "ipython",
    "version": 3
   },
   "file_extension": ".py",
   "mimetype": "text/x-python",
   "name": "python",
   "nbconvert_exporter": "python",
   "pygments_lexer": "ipython3",
   "version": "3.6.3"
  }
 },
 "nbformat": 4,
 "nbformat_minor": 2
}
