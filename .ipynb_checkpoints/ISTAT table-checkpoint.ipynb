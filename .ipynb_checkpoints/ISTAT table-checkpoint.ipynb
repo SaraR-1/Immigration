{
 "cells": [
  {
   "cell_type": "code",
   "execution_count": 1,
   "metadata": {},
   "outputs": [],
   "source": [
    "import pandas as pd\n",
    "import numpy as np\n",
    "from translate import translator\n",
    "import time\n",
    "import random\n",
    "from babel import Locale\n",
    "import json\n",
    "import operator\n",
    "from prompter import yesno"
   ]
  },
  {
   "cell_type": "code",
   "execution_count": 2,
   "metadata": {},
   "outputs": [
    {
     "name": "stdout",
     "output_type": "stream",
     "text": [
      "[nltk_data] Error loading wordnet: <urlopen error [Errno -2] Name or\n",
      "[nltk_data]     service not known>\n"
     ]
    }
   ],
   "source": [
    "import nltk\n",
    "nltk.download('wordnet')\n",
    "from nltk.corpus import wordnet"
   ]
  },
  {
   "cell_type": "code",
   "execution_count": 3,
   "metadata": {},
   "outputs": [],
   "source": [
    "path = \"Data/\"\n",
    "path_foreigners = \"Resident foreigners on 1st January - Citizenship/resident_foreigners.csv\"\n",
    "path_resident = \"Resident population  on 1st January /resident.csv\""
   ]
  },
  {
   "cell_type": "code",
   "execution_count": 4,
   "metadata": {},
   "outputs": [
    {
     "data": {
      "text/html": [
       "<div>\n",
       "<style>\n",
       "    .dataframe thead tr:only-child th {\n",
       "        text-align: right;\n",
       "    }\n",
       "\n",
       "    .dataframe thead th {\n",
       "        text-align: left;\n",
       "    }\n",
       "\n",
       "    .dataframe tbody tr th {\n",
       "        vertical-align: top;\n",
       "    }\n",
       "</style>\n",
       "<table border=\"1\" class=\"dataframe\">\n",
       "  <thead>\n",
       "    <tr style=\"text-align: right;\">\n",
       "      <th></th>\n",
       "      <th>Territorio</th>\n",
       "      <th>Cittadinanza</th>\n",
       "      <th>Periodo</th>\n",
       "      <th>Sesso</th>\n",
       "      <th>Numero</th>\n",
       "    </tr>\n",
       "  </thead>\n",
       "  <tbody>\n",
       "    <tr>\n",
       "      <th>0</th>\n",
       "      <td>Italia</td>\n",
       "      <td>Andorra</td>\n",
       "      <td>2013</td>\n",
       "      <td>maschi</td>\n",
       "      <td>0</td>\n",
       "    </tr>\n",
       "    <tr>\n",
       "      <th>1</th>\n",
       "      <td>Italia</td>\n",
       "      <td>Andorra</td>\n",
       "      <td>2014</td>\n",
       "      <td>maschi</td>\n",
       "      <td>2</td>\n",
       "    </tr>\n",
       "    <tr>\n",
       "      <th>2</th>\n",
       "      <td>Italia</td>\n",
       "      <td>Andorra</td>\n",
       "      <td>2015</td>\n",
       "      <td>maschi</td>\n",
       "      <td>1</td>\n",
       "    </tr>\n",
       "    <tr>\n",
       "      <th>3</th>\n",
       "      <td>Italia</td>\n",
       "      <td>Andorra</td>\n",
       "      <td>2016</td>\n",
       "      <td>maschi</td>\n",
       "      <td>1</td>\n",
       "    </tr>\n",
       "    <tr>\n",
       "      <th>4</th>\n",
       "      <td>Italia</td>\n",
       "      <td>Andorra</td>\n",
       "      <td>2017</td>\n",
       "      <td>maschi</td>\n",
       "      <td>1</td>\n",
       "    </tr>\n",
       "  </tbody>\n",
       "</table>\n",
       "</div>"
      ],
      "text/plain": [
       "  Territorio Cittadinanza  Periodo   Sesso  Numero\n",
       "0     Italia      Andorra     2013  maschi       0\n",
       "1     Italia      Andorra     2014  maschi       2\n",
       "2     Italia      Andorra     2015  maschi       1\n",
       "3     Italia      Andorra     2016  maschi       1\n",
       "4     Italia      Andorra     2017  maschi       1"
      ]
     },
     "execution_count": 4,
     "metadata": {},
     "output_type": "execute_result"
    }
   ],
   "source": [
    "resident_foreigners = pd.read_table(path+path_foreigners)\n",
    "resident_foreigners = resident_foreigners.drop_duplicates()\n",
    "resident_foreigners = resident_foreigners.drop(\"Tipo di indicatore demografico\", axis = 1)\n",
    "resident_foreigners.columns = [\"Territorio\", \"Cittadinanza\", \"Periodo\", \"Sesso\", \"Numero\"]\n",
    "resident_foreigners.head()"
   ]
  },
  {
   "cell_type": "code",
   "execution_count": 7,
   "metadata": {},
   "outputs": [
    {
     "data": {
      "text/html": [
       "<div>\n",
       "<style>\n",
       "    .dataframe thead tr:only-child th {\n",
       "        text-align: right;\n",
       "    }\n",
       "\n",
       "    .dataframe thead th {\n",
       "        text-align: left;\n",
       "    }\n",
       "\n",
       "    .dataframe tbody tr th {\n",
       "        vertical-align: top;\n",
       "    }\n",
       "</style>\n",
       "<table border=\"1\" class=\"dataframe\">\n",
       "  <thead>\n",
       "    <tr style=\"text-align: right;\">\n",
       "      <th></th>\n",
       "      <th>Territorio</th>\n",
       "      <th>Periodo</th>\n",
       "      <th>Sesso</th>\n",
       "      <th>Numero</th>\n",
       "    </tr>\n",
       "  </thead>\n",
       "  <tbody>\n",
       "    <tr>\n",
       "      <th>179734</th>\n",
       "      <td>Piemonte</td>\n",
       "      <td>2013</td>\n",
       "      <td>maschi</td>\n",
       "      <td>2110576</td>\n",
       "    </tr>\n",
       "    <tr>\n",
       "      <th>179735</th>\n",
       "      <td>Piemonte</td>\n",
       "      <td>2014</td>\n",
       "      <td>maschi</td>\n",
       "      <td>2146570</td>\n",
       "    </tr>\n",
       "    <tr>\n",
       "      <th>179736</th>\n",
       "      <td>Piemonte</td>\n",
       "      <td>2015</td>\n",
       "      <td>maschi</td>\n",
       "      <td>2140294</td>\n",
       "    </tr>\n",
       "    <tr>\n",
       "      <th>179737</th>\n",
       "      <td>Piemonte</td>\n",
       "      <td>2016</td>\n",
       "      <td>maschi</td>\n",
       "      <td>2131892</td>\n",
       "    </tr>\n",
       "    <tr>\n",
       "      <th>179738</th>\n",
       "      <td>Piemonte</td>\n",
       "      <td>2017</td>\n",
       "      <td>maschi</td>\n",
       "      <td>2129403</td>\n",
       "    </tr>\n",
       "  </tbody>\n",
       "</table>\n",
       "</div>"
      ],
      "text/plain": [
       "       Territorio  Periodo   Sesso   Numero\n",
       "179734   Piemonte     2013  maschi  2110576\n",
       "179735   Piemonte     2014  maschi  2146570\n",
       "179736   Piemonte     2015  maschi  2140294\n",
       "179737   Piemonte     2016  maschi  2131892\n",
       "179738   Piemonte     2017  maschi  2129403"
      ]
     },
     "execution_count": 7,
     "metadata": {},
     "output_type": "execute_result"
    }
   ],
   "source": [
    "# Is not useful to keep the info about the ages, since it's an info not available for the foreigners table\n",
    "resident = pd.read_table(path+path_resident)\n",
    "resident = resident.drop_duplicates()\n",
    "resident = resident[resident[\"Età\"] == \"totale\"]\n",
    "resident = resident.drop([\"Tipo di indicatore demografico\", \"Stato civile\", \"Età\"], axis = 1)\n",
    "resident.columns = [\"Territorio\", \"Periodo\", \"Sesso\", \"Numero\"]\n",
    "resident.head()"
   ]
  },
  {
   "cell_type": "code",
   "execution_count": 8,
   "metadata": {},
   "outputs": [
    {
     "data": {
      "text/html": [
       "<div>\n",
       "<style>\n",
       "    .dataframe thead tr:only-child th {\n",
       "        text-align: right;\n",
       "    }\n",
       "\n",
       "    .dataframe thead th {\n",
       "        text-align: left;\n",
       "    }\n",
       "\n",
       "    .dataframe tbody tr th {\n",
       "        vertical-align: top;\n",
       "    }\n",
       "</style>\n",
       "<table border=\"1\" class=\"dataframe\">\n",
       "  <thead>\n",
       "    <tr style=\"text-align: right;\">\n",
       "      <th></th>\n",
       "      <th>Provincia</th>\n",
       "      <th>Regione</th>\n",
       "    </tr>\n",
       "  </thead>\n",
       "  <tbody>\n",
       "    <tr>\n",
       "      <th>0</th>\n",
       "      <td>Torino</td>\n",
       "      <td>Piemonte</td>\n",
       "    </tr>\n",
       "    <tr>\n",
       "      <th>1</th>\n",
       "      <td>Vercelli</td>\n",
       "      <td>Piemonte</td>\n",
       "    </tr>\n",
       "    <tr>\n",
       "      <th>2</th>\n",
       "      <td>Novara</td>\n",
       "      <td>Piemonte</td>\n",
       "    </tr>\n",
       "    <tr>\n",
       "      <th>3</th>\n",
       "      <td>Cuneo</td>\n",
       "      <td>Piemonte</td>\n",
       "    </tr>\n",
       "    <tr>\n",
       "      <th>4</th>\n",
       "      <td>Asti</td>\n",
       "      <td>Piemonte</td>\n",
       "    </tr>\n",
       "  </tbody>\n",
       "</table>\n",
       "</div>"
      ],
      "text/plain": [
       "  Provincia   Regione\n",
       "0    Torino  Piemonte\n",
       "1  Vercelli  Piemonte\n",
       "2    Novara  Piemonte\n",
       "3     Cuneo  Piemonte\n",
       "4      Asti  Piemonte"
      ]
     },
     "execution_count": 8,
     "metadata": {},
     "output_type": "execute_result"
    }
   ],
   "source": [
    "provincia_regione = pd.read_table(path+\"regioni.csv\", sep = \"\\t\")\n",
    "provincia_regione.head()"
   ]
  },
  {
   "cell_type": "code",
   "execution_count": 9,
   "metadata": {},
   "outputs": [
    {
     "data": {
      "text/html": [
       "<div>\n",
       "<style>\n",
       "    .dataframe thead tr:only-child th {\n",
       "        text-align: right;\n",
       "    }\n",
       "\n",
       "    .dataframe thead th {\n",
       "        text-align: left;\n",
       "    }\n",
       "\n",
       "    .dataframe tbody tr th {\n",
       "        vertical-align: top;\n",
       "    }\n",
       "</style>\n",
       "<table border=\"1\" class=\"dataframe\">\n",
       "  <thead>\n",
       "    <tr style=\"text-align: right;\">\n",
       "      <th></th>\n",
       "      <th>Regione</th>\n",
       "      <th>Zona</th>\n",
       "    </tr>\n",
       "  </thead>\n",
       "  <tbody>\n",
       "    <tr>\n",
       "      <th>0</th>\n",
       "      <td>Abruzzo</td>\n",
       "      <td>Sud</td>\n",
       "    </tr>\n",
       "    <tr>\n",
       "      <th>1</th>\n",
       "      <td>Basilicata</td>\n",
       "      <td>Sud</td>\n",
       "    </tr>\n",
       "    <tr>\n",
       "      <th>2</th>\n",
       "      <td>Calabria</td>\n",
       "      <td>Sud</td>\n",
       "    </tr>\n",
       "    <tr>\n",
       "      <th>3</th>\n",
       "      <td>Campania</td>\n",
       "      <td>Sud</td>\n",
       "    </tr>\n",
       "    <tr>\n",
       "      <th>4</th>\n",
       "      <td>Emilia-Romagna</td>\n",
       "      <td>Nord-est</td>\n",
       "    </tr>\n",
       "  </tbody>\n",
       "</table>\n",
       "</div>"
      ],
      "text/plain": [
       "          Regione      Zona\n",
       "0         Abruzzo       Sud\n",
       "1      Basilicata       Sud\n",
       "2        Calabria       Sud\n",
       "3        Campania       Sud\n",
       "4  Emilia-Romagna  Nord-est"
      ]
     },
     "execution_count": 9,
     "metadata": {},
     "output_type": "execute_result"
    }
   ],
   "source": [
    "regione_zona = pd.read_table(path+\"territori.csv\", sep = \"\\t\")\n",
    "regione_zona.head()"
   ]
  },
  {
   "cell_type": "markdown",
   "metadata": {},
   "source": [
    "Check if the aggragation is right.. that is: \n",
    "- the sum over the municipalities (comuni) conrespond to the aggragation value at the region (regione) level;\n",
    "- the sum over the regions conrespond to the aggregation value at the zone (nord, sud, etc..) level;\n",
    "- for each tuple (Territorio, Cittadinanza, Anno) if maschio + femmina = totale.\n",
    "\n",
    "Check both the resident and the resident_foreigners"
   ]
  },
  {
   "cell_type": "code",
   "execution_count": 10,
   "metadata": {},
   "outputs": [],
   "source": [
    "regioni = list(set(regione_zona[\"Regione\"]))\n",
    "zone = list(set(regione_zona[\"Zona\"]))\n",
    "territori = list(set(resident_foreigners[\"Territorio\"]))\n",
    "years = list(set(resident_foreigners[\"Periodo\"]))\n",
    "origine = list(set(resident_foreigners[\"Cittadinanza\"]))"
   ]
  },
  {
   "cell_type": "markdown",
   "metadata": {},
   "source": [
    "### Resident Foreigners Check"
   ]
  },
  {
   "cell_type": "code",
   "execution_count": 11,
   "metadata": {},
   "outputs": [
    {
     "name": "stdout",
     "output_type": "stream",
     "text": [
      "Region-Aggregation works on 'resident_foreigners'!\n"
     ]
    }
   ],
   "source": [
    "temp = resident_foreigners.copy()\n",
    "# keep only the municipalities and the region data\n",
    "territori_1 = list(set(list(provincia_regione[\"Provincia\"]) + list(provincia_regione[\"Regione\"])))\n",
    "temp = temp.loc[[i in territori_1 for i in temp[\"Territorio\"]]]\n",
    "# do not consider the Valle d'Aosta / Vallée d'Aoste data since the aggregate and the singular data coincide\n",
    "temp = temp[temp[\"Territorio\"] != \"Valle d'Aosta / Vallée d'Aoste\"]\n",
    "# change the sign to the \"total\" elements\n",
    "temp[\"Numero\"][[i in list(set(provincia_regione[\"Regione\"])) for i in temp[\"Territorio\"]]] = -temp[\"Numero\"][[i in list(set(provincia_regione[\"Regione\"])) for i in temp[\"Territorio\"]]]\n",
    "\n",
    "regioni = list(set(provincia_regione[\"Regione\"]))\n",
    "province = list(set(provincia_regione[\"Provincia\"]))\n",
    "# add the regione field, so we can aggregate on it\n",
    "temp[\"Regione\"] = [provincia_regione[\"Regione\"][provincia_regione[\"Provincia\"] == i].values[0] if i in province else i for i in temp[\"Territorio\"]]\n",
    "\n",
    "# sum all over the same (Regione, Cittadinanza, Periodo, Sesso)\n",
    "temp['totale'] = temp.groupby([\"Regione\", \"Cittadinanza\", \"Periodo\", \"Sesso\"])['Numero'].transform(np.sum)\n",
    "\n",
    "# the sum should always be 0\n",
    "if len(list(set(temp[\"totale\"]))) == 1 and list(set(temp[\"totale\"]))[0] == 0:\n",
    "    print(\"Region-Aggregation works on 'resident_foreigners'!\")"
   ]
  },
  {
   "cell_type": "code",
   "execution_count": 12,
   "metadata": {},
   "outputs": [
    {
     "name": "stdout",
     "output_type": "stream",
     "text": [
      "Zone-Aggregation works on 'resident_foreigners'!\n"
     ]
    }
   ],
   "source": [
    "temp = resident_foreigners.copy()\n",
    "# keep only the municipalities and the region data\n",
    "territori_1 = list(set(list(regione_zona[\"Regione\"]) + list(regione_zona[\"Zona\"])))\n",
    "temp = temp.loc[[i in territori_1 for i in temp[\"Territorio\"]]]\n",
    "\n",
    "# change the sign to the \"total\" elements\n",
    "temp[\"Numero\"][[i in list(set(regione_zona[\"Zona\"])) for i in temp[\"Territorio\"]]] = -temp[\"Numero\"][[i in list(set(regione_zona[\"Zona\"])) for i in temp[\"Territorio\"]]]\n",
    "\n",
    "regioni = list(set(provincia_regione[\"Regione\"]))\n",
    "zone = list(set(regione_zona[\"Zona\"]))\n",
    "\n",
    "# add the regione field, so we can aggregate on it\n",
    "temp[\"Zona\"] = [regione_zona[\"Zona\"][regione_zona[\"Regione\"] == i].values[0] if i in regioni else i for i in temp[\"Territorio\"]]\n",
    "\n",
    "# sum all over the same (Regione, Cittadinanza, Periodo, Sesso)\n",
    "temp['totale'] = temp.groupby([\"Zona\", \"Cittadinanza\", \"Periodo\", \"Sesso\"])['Numero'].transform(np.sum)\n",
    "\n",
    "# the sum should always be 0\n",
    "if len(list(set(temp[\"totale\"]))) == 1 and list(set(temp[\"totale\"]))[0] == 0:\n",
    "    print(\"Zone-Aggregation works on 'resident_foreigners'!\")"
   ]
  },
  {
   "cell_type": "code",
   "execution_count": 13,
   "metadata": {},
   "outputs": [
    {
     "name": "stdout",
     "output_type": "stream",
     "text": [
      "Aggregation maschio + femmina works on 'resident_foreigners'!\n"
     ]
    },
    {
     "name": "stderr",
     "output_type": "stream",
     "text": [
      "/home/sara/myenv/lib64/python3.6/site-packages/ipykernel_launcher.py:3: SettingWithCopyWarning: \n",
      "A value is trying to be set on a copy of a slice from a DataFrame\n",
      "\n",
      "See the caveats in the documentation: http://pandas.pydata.org/pandas-docs/stable/indexing.html#indexing-view-versus-copy\n",
      "  This is separate from the ipykernel package so we can avoid doing imports until\n"
     ]
    }
   ],
   "source": [
    "temp = resident_foreigners.copy()\n",
    "# change the sign to the \"total\" elements\n",
    "temp[\"Numero\"][temp[temp[\"Sesso\"] == \"totale\"].index] = -temp[\"Numero\"][temp[temp[\"Sesso\"] == \"totale\"].index]\n",
    "# sum all over the same (Territorio, Cittadinanza, Periodo)\n",
    "temp['totale'] = temp.groupby([\"Territorio\", \"Cittadinanza\", \"Periodo\"])['Numero'].transform(np.sum)\n",
    "\n",
    "# the sum should always be 0\n",
    "if len(list(set(temp[\"totale\"]))) == 1 and list(set(temp[\"totale\"]))[0] == 0:\n",
    "    print(\"Aggregation maschio + femmina works on 'resident_foreigners'!\")"
   ]
  },
  {
   "cell_type": "markdown",
   "metadata": {},
   "source": [
    "### Resident Check"
   ]
  },
  {
   "cell_type": "code",
   "execution_count": 14,
   "metadata": {},
   "outputs": [
    {
     "name": "stdout",
     "output_type": "stream",
     "text": [
      "Region-Aggregation works on 'resident'!\n"
     ]
    }
   ],
   "source": [
    "temp = resident.copy()\n",
    "# keep only the municipalities and the region data\n",
    "territori_1 = list(set(list(provincia_regione[\"Provincia\"]) + list(provincia_regione[\"Regione\"])))\n",
    "temp = temp.loc[[i in territori_1 for i in temp[\"Territorio\"]]]\n",
    "# do not consider the Valle d'Aosta / Vallée d'Aoste data since the aggregate and the singular data coincide\n",
    "temp = temp[temp[\"Territorio\"] != \"Valle d'Aosta / Vallée d'Aoste\"]\n",
    "# change the sign to the \"total\" elements\n",
    "temp[\"Numero\"][[i in list(set(provincia_regione[\"Regione\"])) for i in temp[\"Territorio\"]]] = -temp[\"Numero\"][[i in list(set(provincia_regione[\"Regione\"])) for i in temp[\"Territorio\"]]]\n",
    "\n",
    "regioni = list(set(provincia_regione[\"Regione\"]))\n",
    "province = list(set(provincia_regione[\"Provincia\"]))\n",
    "# add the regione field, so we can aggregate on it\n",
    "temp[\"Regione\"] = [provincia_regione[\"Regione\"][provincia_regione[\"Provincia\"] == i].values[0] if i in province else i for i in temp[\"Territorio\"]]\n",
    "\n",
    "# sum all over the same (Regione, Periodo, Sesso)\n",
    "temp['totale'] = temp.groupby([\"Regione\", \"Periodo\", \"Sesso\"])['Numero'].transform(np.sum)\n",
    "\n",
    "# the sum should always be 0\n",
    "if len(list(set(temp[\"totale\"]))) == 1 and list(set(temp[\"totale\"]))[0] == 0:\n",
    "    print(\"Region-Aggregation works on 'resident'!\")"
   ]
  },
  {
   "cell_type": "code",
   "execution_count": 15,
   "metadata": {},
   "outputs": [
    {
     "name": "stdout",
     "output_type": "stream",
     "text": [
      "Zone-Aggregation works on 'resident'!\n"
     ]
    }
   ],
   "source": [
    "temp = resident.copy()\n",
    "# keep only the region and the zone data\n",
    "territori_1 = list(set(list(regione_zona[\"Regione\"]) + list(regione_zona[\"Zona\"])))\n",
    "temp = temp.loc[[i in territori_1 for i in temp[\"Territorio\"]]]\n",
    "\n",
    "# change the sign to the \"total\" elements\n",
    "temp[\"Numero\"][[i in list(set(regione_zona[\"Zona\"])) for i in temp[\"Territorio\"]]] = -temp[\"Numero\"][[i in list(set(regione_zona[\"Zona\"])) for i in temp[\"Territorio\"]]]\n",
    "\n",
    "regioni = list(set(provincia_regione[\"Regione\"]))\n",
    "zone = list(set(regione_zona[\"Zona\"]))\n",
    "\n",
    "# add the regione field, so we can aggregate on it\n",
    "temp[\"Zona\"] = [regione_zona[\"Zona\"][regione_zona[\"Regione\"] == i].values[0] if i in regioni else i for i in temp[\"Territorio\"]]\n",
    "\n",
    "# sum all over the same (Regione, Periodo, Sesso)\n",
    "temp['totale'] = temp.groupby([\"Zona\", \"Periodo\", \"Sesso\"])['Numero'].transform(np.sum)\n",
    "\n",
    "# the sum should always be 0\n",
    "if len(list(set(temp[\"totale\"]))) == 1 and list(set(temp[\"totale\"]))[0] == 0:\n",
    "    print(\"Zone-Aggregation works on 'resident'!\")"
   ]
  },
  {
   "cell_type": "code",
   "execution_count": 16,
   "metadata": {},
   "outputs": [
    {
     "name": "stdout",
     "output_type": "stream",
     "text": [
      "Aggregation maschio + femmina works on 'resident'!\n"
     ]
    },
    {
     "name": "stderr",
     "output_type": "stream",
     "text": [
      "/home/sara/myenv/lib64/python3.6/site-packages/ipykernel_launcher.py:3: SettingWithCopyWarning: \n",
      "A value is trying to be set on a copy of a slice from a DataFrame\n",
      "\n",
      "See the caveats in the documentation: http://pandas.pydata.org/pandas-docs/stable/indexing.html#indexing-view-versus-copy\n",
      "  This is separate from the ipykernel package so we can avoid doing imports until\n"
     ]
    }
   ],
   "source": [
    "temp = resident.copy()\n",
    "# change the sign to the \"total\" elements\n",
    "temp[\"Numero\"][temp[temp[\"Sesso\"] == \"totale\"].index] = -temp[\"Numero\"][temp[temp[\"Sesso\"] == \"totale\"].index]\n",
    "# sum all over the same (Territorio, Periodo)\n",
    "temp['totale'] = temp.groupby([\"Territorio\", \"Periodo\"])['Numero'].transform(np.sum)\n",
    "\n",
    "# the sum should always be 0\n",
    "if len(list(set(temp[\"totale\"]))) == 1 and list(set(temp[\"totale\"]))[0] == 0:\n",
    "    print(\"Aggregation maschio + femmina works on 'resident'!\")"
   ]
  },
  {
   "cell_type": "markdown",
   "metadata": {},
   "source": [
    "The aggragation checks are verified. Thus, it's possible to drop duplication to get the normal form."
   ]
  },
  {
   "cell_type": "markdown",
   "metadata": {},
   "source": [
    "### .. to Normal Form"
   ]
  },
  {
   "cell_type": "code",
   "execution_count": 45,
   "metadata": {},
   "outputs": [],
   "source": [
    "resident_foreigners_norm = resident_foreigners.copy() \n",
    "\n",
    "# drop region and zone data\n",
    "territori_1 = list(regione_zona[\"Regione\"].values) + list(regione_zona[\"Zona\"].values) + [\"Italia\"]\n",
    "resident_foreigners_norm = resident_foreigners_norm.loc[[i not in territori_1 for i in resident_foreigners_norm[\"Territorio\"]]]\n",
    "resident_foreigners_norm = resident_foreigners_norm[resident_foreigners_norm[\"Cittadinanza\"] != \"Mondo\"]\n",
    "# drop total (mashio+femmina) data\n",
    "resident_foreigners_norm = resident_foreigners_norm[resident_foreigners_norm[\"Sesso\"] != \"totale\"]\n",
    "\n",
    "resident_foreigners_norm.index = range(len(resident_foreigners_norm))"
   ]
  },
  {
   "cell_type": "code",
   "execution_count": 49,
   "metadata": {},
   "outputs": [],
   "source": [
    "resident_norm = resident.copy() \n",
    "\n",
    "# drop region and zone data\n",
    "territori_1 = set(list(regione_zona[\"Regione\"]) + (list(regione_zona[\"Zona\"]) + list([\"Italia\"]))) \n",
    "resident_norm = resident_norm.loc[[i not in territori_1 for i in resident_norm[\"Territorio\"]]]\n",
    "# drop total (mashio+femmina) data\n",
    "resident_norm = resident_norm[resident_norm[\"Sesso\"] != \"totale\"]\n",
    "\n",
    "resident_norm.index = range(len(resident_norm))"
   ]
  },
  {
   "cell_type": "code",
   "execution_count": 50,
   "metadata": {},
   "outputs": [],
   "source": [
    "# Provincia is now better than generic Territorio\n",
    "resident_norm.rename(columns = {\"Territorio\": \"Provincia\"}, inplace=True)\n",
    "resident_foreigners_norm.rename(columns = {\"Territorio\": \"Provincia\"}, inplace=True)"
   ]
  },
  {
   "cell_type": "code",
   "execution_count": 51,
   "metadata": {},
   "outputs": [
    {
     "data": {
      "text/html": [
       "<div>\n",
       "<style>\n",
       "    .dataframe thead tr:only-child th {\n",
       "        text-align: right;\n",
       "    }\n",
       "\n",
       "    .dataframe thead th {\n",
       "        text-align: left;\n",
       "    }\n",
       "\n",
       "    .dataframe tbody tr th {\n",
       "        vertical-align: top;\n",
       "    }\n",
       "</style>\n",
       "<table border=\"1\" class=\"dataframe\">\n",
       "  <thead>\n",
       "    <tr style=\"text-align: right;\">\n",
       "      <th></th>\n",
       "      <th>Provincia</th>\n",
       "      <th>Periodo</th>\n",
       "      <th>Sesso</th>\n",
       "      <th>Numero</th>\n",
       "    </tr>\n",
       "  </thead>\n",
       "  <tbody>\n",
       "    <tr>\n",
       "      <th>0</th>\n",
       "      <td>Torino</td>\n",
       "      <td>2013</td>\n",
       "      <td>maschi</td>\n",
       "      <td>1084528</td>\n",
       "    </tr>\n",
       "    <tr>\n",
       "      <th>1</th>\n",
       "      <td>Torino</td>\n",
       "      <td>2014</td>\n",
       "      <td>maschi</td>\n",
       "      <td>1109048</td>\n",
       "    </tr>\n",
       "    <tr>\n",
       "      <th>2</th>\n",
       "      <td>Torino</td>\n",
       "      <td>2015</td>\n",
       "      <td>maschi</td>\n",
       "      <td>1105608</td>\n",
       "    </tr>\n",
       "    <tr>\n",
       "      <th>3</th>\n",
       "      <td>Torino</td>\n",
       "      <td>2016</td>\n",
       "      <td>maschi</td>\n",
       "      <td>1101427</td>\n",
       "    </tr>\n",
       "    <tr>\n",
       "      <th>4</th>\n",
       "      <td>Torino</td>\n",
       "      <td>2017</td>\n",
       "      <td>maschi</td>\n",
       "      <td>1100562</td>\n",
       "    </tr>\n",
       "  </tbody>\n",
       "</table>\n",
       "</div>"
      ],
      "text/plain": [
       "  Provincia  Periodo   Sesso   Numero\n",
       "0    Torino     2013  maschi  1084528\n",
       "1    Torino     2014  maschi  1109048\n",
       "2    Torino     2015  maschi  1105608\n",
       "3    Torino     2016  maschi  1101427\n",
       "4    Torino     2017  maschi  1100562"
      ]
     },
     "execution_count": 51,
     "metadata": {},
     "output_type": "execute_result"
    }
   ],
   "source": [
    "resident_norm.head()"
   ]
  },
  {
   "cell_type": "code",
   "execution_count": 52,
   "metadata": {},
   "outputs": [
    {
     "data": {
      "text/html": [
       "<div>\n",
       "<style>\n",
       "    .dataframe thead tr:only-child th {\n",
       "        text-align: right;\n",
       "    }\n",
       "\n",
       "    .dataframe thead th {\n",
       "        text-align: left;\n",
       "    }\n",
       "\n",
       "    .dataframe tbody tr th {\n",
       "        vertical-align: top;\n",
       "    }\n",
       "</style>\n",
       "<table border=\"1\" class=\"dataframe\">\n",
       "  <thead>\n",
       "    <tr style=\"text-align: right;\">\n",
       "      <th></th>\n",
       "      <th>Provincia</th>\n",
       "      <th>Cittadinanza</th>\n",
       "      <th>Periodo</th>\n",
       "      <th>Sesso</th>\n",
       "      <th>Numero</th>\n",
       "    </tr>\n",
       "  </thead>\n",
       "  <tbody>\n",
       "    <tr>\n",
       "      <th>0</th>\n",
       "      <td>Alessandria</td>\n",
       "      <td>Andorra</td>\n",
       "      <td>2017</td>\n",
       "      <td>maschi</td>\n",
       "      <td>0</td>\n",
       "    </tr>\n",
       "    <tr>\n",
       "      <th>1</th>\n",
       "      <td>Alessandria</td>\n",
       "      <td>Andorra</td>\n",
       "      <td>2017</td>\n",
       "      <td>femmine</td>\n",
       "      <td>1</td>\n",
       "    </tr>\n",
       "    <tr>\n",
       "      <th>2</th>\n",
       "      <td>Genova</td>\n",
       "      <td>Andorra</td>\n",
       "      <td>2013</td>\n",
       "      <td>maschi</td>\n",
       "      <td>0</td>\n",
       "    </tr>\n",
       "    <tr>\n",
       "      <th>3</th>\n",
       "      <td>Genova</td>\n",
       "      <td>Andorra</td>\n",
       "      <td>2013</td>\n",
       "      <td>femmine</td>\n",
       "      <td>1</td>\n",
       "    </tr>\n",
       "    <tr>\n",
       "      <th>4</th>\n",
       "      <td>Como</td>\n",
       "      <td>Andorra</td>\n",
       "      <td>2013</td>\n",
       "      <td>maschi</td>\n",
       "      <td>0</td>\n",
       "    </tr>\n",
       "  </tbody>\n",
       "</table>\n",
       "</div>"
      ],
      "text/plain": [
       "     Provincia Cittadinanza  Periodo    Sesso  Numero\n",
       "0  Alessandria      Andorra     2017   maschi       0\n",
       "1  Alessandria      Andorra     2017  femmine       1\n",
       "2       Genova      Andorra     2013   maschi       0\n",
       "3       Genova      Andorra     2013  femmine       1\n",
       "4         Como      Andorra     2013   maschi       0"
      ]
     },
     "execution_count": 52,
     "metadata": {},
     "output_type": "execute_result"
    }
   ],
   "source": [
    "resident_foreigners_norm.head()"
   ]
  },
  {
   "cell_type": "code",
   "execution_count": 53,
   "metadata": {},
   "outputs": [
    {
     "name": "stdout",
     "output_type": "stream",
     "text": [
      "We have 109 different provinces.\n"
     ]
    }
   ],
   "source": [
    "print(\"We have %d different provinces.\" %len(list(set(resident_foreigners_norm[\"Provincia\"]))))"
   ]
  },
  {
   "cell_type": "code",
   "execution_count": 54,
   "metadata": {},
   "outputs": [],
   "source": [
    "# dump\n",
    "resident_norm.to_csv(\"Data_norm/resident_norm.csv\")\n",
    "resident_foreigners_norm.to_csv(\"Data_norm/resident_foreigners_norm.csv\")"
   ]
  }
 ],
 "metadata": {
  "kernelspec": {
   "display_name": "Python 3",
   "language": "python",
   "name": "python3"
  },
  "language_info": {
   "codemirror_mode": {
    "name": "ipython",
    "version": 3
   },
   "file_extension": ".py",
   "mimetype": "text/x-python",
   "name": "python",
   "nbconvert_exporter": "python",
   "pygments_lexer": "ipython3",
   "version": "3.6.3"
  }
 },
 "nbformat": 4,
 "nbformat_minor": 2
}
