{
 "cells": [
  {
   "cell_type": "code",
   "execution_count": 136,
   "metadata": {},
   "outputs": [],
   "source": [
    "import pandas as pd\n",
    "import numpy as np\n",
    "from translate import translator\n",
    "import time\n",
    "import random\n",
    "from babel import Locale"
   ]
  },
  {
   "cell_type": "code",
   "execution_count": 2,
   "metadata": {},
   "outputs": [],
   "source": [
    "path = \"Data/\"\n",
    "path_foreigners = \"Resident foreigners on 1st January - Citizenship/resident_foreigners.csv\"\n",
    "path_resident = \"Resident population  on 1st January /resident.csv\""
   ]
  },
  {
   "cell_type": "code",
   "execution_count": 3,
   "metadata": {},
   "outputs": [
    {
     "data": {
      "text/html": [
       "<div>\n",
       "<style>\n",
       "    .dataframe thead tr:only-child th {\n",
       "        text-align: right;\n",
       "    }\n",
       "\n",
       "    .dataframe thead th {\n",
       "        text-align: left;\n",
       "    }\n",
       "\n",
       "    .dataframe tbody tr th {\n",
       "        vertical-align: top;\n",
       "    }\n",
       "</style>\n",
       "<table border=\"1\" class=\"dataframe\">\n",
       "  <thead>\n",
       "    <tr style=\"text-align: right;\">\n",
       "      <th></th>\n",
       "      <th>Territorio</th>\n",
       "      <th>Cittadinanza</th>\n",
       "      <th>Periodo</th>\n",
       "      <th>Sesso</th>\n",
       "      <th>Numero</th>\n",
       "    </tr>\n",
       "  </thead>\n",
       "  <tbody>\n",
       "    <tr>\n",
       "      <th>0</th>\n",
       "      <td>Italia</td>\n",
       "      <td>Andorra</td>\n",
       "      <td>2013</td>\n",
       "      <td>maschi</td>\n",
       "      <td>0</td>\n",
       "    </tr>\n",
       "    <tr>\n",
       "      <th>1</th>\n",
       "      <td>Italia</td>\n",
       "      <td>Andorra</td>\n",
       "      <td>2014</td>\n",
       "      <td>maschi</td>\n",
       "      <td>2</td>\n",
       "    </tr>\n",
       "    <tr>\n",
       "      <th>2</th>\n",
       "      <td>Italia</td>\n",
       "      <td>Andorra</td>\n",
       "      <td>2015</td>\n",
       "      <td>maschi</td>\n",
       "      <td>1</td>\n",
       "    </tr>\n",
       "    <tr>\n",
       "      <th>3</th>\n",
       "      <td>Italia</td>\n",
       "      <td>Andorra</td>\n",
       "      <td>2016</td>\n",
       "      <td>maschi</td>\n",
       "      <td>1</td>\n",
       "    </tr>\n",
       "    <tr>\n",
       "      <th>4</th>\n",
       "      <td>Italia</td>\n",
       "      <td>Andorra</td>\n",
       "      <td>2017</td>\n",
       "      <td>maschi</td>\n",
       "      <td>1</td>\n",
       "    </tr>\n",
       "  </tbody>\n",
       "</table>\n",
       "</div>"
      ],
      "text/plain": [
       "  Territorio Cittadinanza  Periodo   Sesso  Numero\n",
       "0     Italia      Andorra     2013  maschi       0\n",
       "1     Italia      Andorra     2014  maschi       2\n",
       "2     Italia      Andorra     2015  maschi       1\n",
       "3     Italia      Andorra     2016  maschi       1\n",
       "4     Italia      Andorra     2017  maschi       1"
      ]
     },
     "execution_count": 3,
     "metadata": {},
     "output_type": "execute_result"
    }
   ],
   "source": [
    "resident_foreigners = pd.read_table(path+path_foreigners)\n",
    "resident_foreigners = resident_foreigners.drop_duplicates()\n",
    "resident_foreigners = resident_foreigners.drop(\"Tipo di indicatore demografico\", axis = 1)\n",
    "resident_foreigners.columns = [\"Territorio\", \"Cittadinanza\", \"Periodo\", \"Sesso\", \"Numero\"]\n",
    "resident_foreigners.head()"
   ]
  },
  {
   "cell_type": "code",
   "execution_count": 4,
   "metadata": {},
   "outputs": [
    {
     "data": {
      "text/html": [
       "<div>\n",
       "<style>\n",
       "    .dataframe thead tr:only-child th {\n",
       "        text-align: right;\n",
       "    }\n",
       "\n",
       "    .dataframe thead th {\n",
       "        text-align: left;\n",
       "    }\n",
       "\n",
       "    .dataframe tbody tr th {\n",
       "        vertical-align: top;\n",
       "    }\n",
       "</style>\n",
       "<table border=\"1\" class=\"dataframe\">\n",
       "  <thead>\n",
       "    <tr style=\"text-align: right;\">\n",
       "      <th></th>\n",
       "      <th>Territorio</th>\n",
       "      <th>Periodo</th>\n",
       "      <th>Sesso</th>\n",
       "      <th>Numero</th>\n",
       "    </tr>\n",
       "  </thead>\n",
       "  <tbody>\n",
       "    <tr>\n",
       "      <th>179734</th>\n",
       "      <td>Piemonte</td>\n",
       "      <td>2013</td>\n",
       "      <td>maschi</td>\n",
       "      <td>2110576</td>\n",
       "    </tr>\n",
       "    <tr>\n",
       "      <th>179735</th>\n",
       "      <td>Piemonte</td>\n",
       "      <td>2014</td>\n",
       "      <td>maschi</td>\n",
       "      <td>2146570</td>\n",
       "    </tr>\n",
       "    <tr>\n",
       "      <th>179736</th>\n",
       "      <td>Piemonte</td>\n",
       "      <td>2015</td>\n",
       "      <td>maschi</td>\n",
       "      <td>2140294</td>\n",
       "    </tr>\n",
       "    <tr>\n",
       "      <th>179737</th>\n",
       "      <td>Piemonte</td>\n",
       "      <td>2016</td>\n",
       "      <td>maschi</td>\n",
       "      <td>2131892</td>\n",
       "    </tr>\n",
       "    <tr>\n",
       "      <th>179738</th>\n",
       "      <td>Piemonte</td>\n",
       "      <td>2017</td>\n",
       "      <td>maschi</td>\n",
       "      <td>2129403</td>\n",
       "    </tr>\n",
       "  </tbody>\n",
       "</table>\n",
       "</div>"
      ],
      "text/plain": [
       "       Territorio  Periodo   Sesso   Numero\n",
       "179734   Piemonte     2013  maschi  2110576\n",
       "179735   Piemonte     2014  maschi  2146570\n",
       "179736   Piemonte     2015  maschi  2140294\n",
       "179737   Piemonte     2016  maschi  2131892\n",
       "179738   Piemonte     2017  maschi  2129403"
      ]
     },
     "execution_count": 4,
     "metadata": {},
     "output_type": "execute_result"
    }
   ],
   "source": [
    "# Is not useful to keep the info about the ages, since it's an info not available for the foreigners table\n",
    "resident = pd.read_table(path+path_resident)\n",
    "resident = resident.drop_duplicates()\n",
    "resident = resident[resident[\"Età\"] == \"totale\"]\n",
    "resident = resident.drop([\"Tipo di indicatore demografico\", \"Stato civile\", \"Età\"], axis = 1)\n",
    "resident.columns = [\"Territorio\", \"Periodo\", \"Sesso\", \"Numero\"]\n",
    "resident.head()"
   ]
  },
  {
   "cell_type": "code",
   "execution_count": 5,
   "metadata": {},
   "outputs": [
    {
     "data": {
      "text/html": [
       "<div>\n",
       "<style>\n",
       "    .dataframe thead tr:only-child th {\n",
       "        text-align: right;\n",
       "    }\n",
       "\n",
       "    .dataframe thead th {\n",
       "        text-align: left;\n",
       "    }\n",
       "\n",
       "    .dataframe tbody tr th {\n",
       "        vertical-align: top;\n",
       "    }\n",
       "</style>\n",
       "<table border=\"1\" class=\"dataframe\">\n",
       "  <thead>\n",
       "    <tr style=\"text-align: right;\">\n",
       "      <th></th>\n",
       "      <th>Provincia</th>\n",
       "      <th>Regione</th>\n",
       "    </tr>\n",
       "  </thead>\n",
       "  <tbody>\n",
       "    <tr>\n",
       "      <th>0</th>\n",
       "      <td>Torino</td>\n",
       "      <td>Piemonte</td>\n",
       "    </tr>\n",
       "    <tr>\n",
       "      <th>1</th>\n",
       "      <td>Vercelli</td>\n",
       "      <td>Piemonte</td>\n",
       "    </tr>\n",
       "    <tr>\n",
       "      <th>2</th>\n",
       "      <td>Novara</td>\n",
       "      <td>Piemonte</td>\n",
       "    </tr>\n",
       "    <tr>\n",
       "      <th>3</th>\n",
       "      <td>Cuneo</td>\n",
       "      <td>Piemonte</td>\n",
       "    </tr>\n",
       "    <tr>\n",
       "      <th>4</th>\n",
       "      <td>Asti</td>\n",
       "      <td>Piemonte</td>\n",
       "    </tr>\n",
       "  </tbody>\n",
       "</table>\n",
       "</div>"
      ],
      "text/plain": [
       "  Provincia   Regione\n",
       "0    Torino  Piemonte\n",
       "1  Vercelli  Piemonte\n",
       "2    Novara  Piemonte\n",
       "3     Cuneo  Piemonte\n",
       "4      Asti  Piemonte"
      ]
     },
     "execution_count": 5,
     "metadata": {},
     "output_type": "execute_result"
    }
   ],
   "source": [
    "provincia_regione = pd.read_table(path+\"regioni.csv\", sep = \"\\t\")\n",
    "provincia_regione.head()"
   ]
  },
  {
   "cell_type": "code",
   "execution_count": 6,
   "metadata": {},
   "outputs": [
    {
     "data": {
      "text/html": [
       "<div>\n",
       "<style>\n",
       "    .dataframe thead tr:only-child th {\n",
       "        text-align: right;\n",
       "    }\n",
       "\n",
       "    .dataframe thead th {\n",
       "        text-align: left;\n",
       "    }\n",
       "\n",
       "    .dataframe tbody tr th {\n",
       "        vertical-align: top;\n",
       "    }\n",
       "</style>\n",
       "<table border=\"1\" class=\"dataframe\">\n",
       "  <thead>\n",
       "    <tr style=\"text-align: right;\">\n",
       "      <th></th>\n",
       "      <th>Regione</th>\n",
       "      <th>Zona</th>\n",
       "    </tr>\n",
       "  </thead>\n",
       "  <tbody>\n",
       "    <tr>\n",
       "      <th>0</th>\n",
       "      <td>Abruzzo</td>\n",
       "      <td>Sud</td>\n",
       "    </tr>\n",
       "    <tr>\n",
       "      <th>1</th>\n",
       "      <td>Basilicata</td>\n",
       "      <td>Sud</td>\n",
       "    </tr>\n",
       "    <tr>\n",
       "      <th>2</th>\n",
       "      <td>Calabria</td>\n",
       "      <td>Sud</td>\n",
       "    </tr>\n",
       "    <tr>\n",
       "      <th>3</th>\n",
       "      <td>Campania</td>\n",
       "      <td>Sud</td>\n",
       "    </tr>\n",
       "    <tr>\n",
       "      <th>4</th>\n",
       "      <td>Emilia-Romagna</td>\n",
       "      <td>Nord-est</td>\n",
       "    </tr>\n",
       "  </tbody>\n",
       "</table>\n",
       "</div>"
      ],
      "text/plain": [
       "          Regione      Zona\n",
       "0         Abruzzo       Sud\n",
       "1      Basilicata       Sud\n",
       "2        Calabria       Sud\n",
       "3        Campania       Sud\n",
       "4  Emilia-Romagna  Nord-est"
      ]
     },
     "execution_count": 6,
     "metadata": {},
     "output_type": "execute_result"
    }
   ],
   "source": [
    "regione_zona = pd.read_table(path+\"territori.csv\", sep = \"\\t\")\n",
    "regione_zona.head()"
   ]
  },
  {
   "cell_type": "markdown",
   "metadata": {},
   "source": [
    "Check if the aggragation is right.. that is: \n",
    "- the sum over the municipalities (comuni) conrespond to the aggragation value at the region (regione) level;\n",
    "- the sum over the regions conrespond to the aggregation value at the zone (nord, sud, etc..) level;\n",
    "- for each tuple (Territorio, Cittadinanza, Anno) if maschio + femmina = totale.\n",
    "\n",
    "Check both the resident and the resident_foreigners"
   ]
  },
  {
   "cell_type": "code",
   "execution_count": 7,
   "metadata": {},
   "outputs": [],
   "source": [
    "regioni = list(set(regione_zona[\"Regione\"]))\n",
    "zone = list(set(regione_zona[\"Zona\"]))\n",
    "territori = list(set(resident_foreigners[\"Territorio\"]))\n",
    "years = list(set(resident_foreigners[\"Periodo\"]))\n",
    "origine = list(set(resident_foreigners[\"Cittadinanza\"]))"
   ]
  },
  {
   "cell_type": "markdown",
   "metadata": {},
   "source": [
    "### Resident Foreigners Check"
   ]
  },
  {
   "cell_type": "code",
   "execution_count": 215,
   "metadata": {},
   "outputs": [
    {
     "name": "stdout",
     "output_type": "stream",
     "text": [
      "Region-Aggregation works on 'resident_foreigners'!\n"
     ]
    }
   ],
   "source": [
    "temp = resident_foreigners.copy()\n",
    "# keep only the municipalities and the region data\n",
    "territori_1 = list(set(list(provincia_regione[\"Provincia\"]) + list(provincia_regione[\"Regione\"])))\n",
    "temp = temp.loc[[i in territori_1 for i in temp[\"Territorio\"]]]\n",
    "# do not consider the Valle d'Aosta / Vallée d'Aoste data since the aggregate and the singular data coincide\n",
    "temp = temp[temp[\"Territorio\"] != \"Valle d'Aosta / Vallée d'Aoste\"]\n",
    "# change the sign to the \"total\" elements\n",
    "temp[\"Numero\"][[i in list(set(provincia_regione[\"Regione\"])) for i in temp[\"Territorio\"]]] = -temp[\"Numero\"][[i in list(set(provincia_regione[\"Regione\"])) for i in temp[\"Territorio\"]]]\n",
    "\n",
    "regioni = list(set(provincia_regione[\"Regione\"]))\n",
    "province = list(set(provincia_regione[\"Provincia\"]))\n",
    "# add the regione field, so we can aggregate on it\n",
    "temp[\"Regione\"] = [provincia_regione[\"Regione\"][provincia_regione[\"Provincia\"] == i].values[0] if i in province else i for i in temp[\"Territorio\"]]\n",
    "\n",
    "# sum all over the same (Regione, Cittadinanza, Periodo, Sesso)\n",
    "temp['totale'] = temp.groupby([\"Regione\", \"Cittadinanza\", \"Periodo\", \"Sesso\"])['Numero'].transform(np.sum)\n",
    "\n",
    "# the sum should always be 0\n",
    "if len(list(set(temp[\"totale\"]))) == 1 and list(set(temp[\"totale\"]))[0] == 0:\n",
    "    print(\"Region-Aggregation works on 'resident_foreigners'!\")"
   ]
  },
  {
   "cell_type": "code",
   "execution_count": 213,
   "metadata": {},
   "outputs": [
    {
     "data": {
      "text/html": [
       "<div>\n",
       "<style>\n",
       "    .dataframe thead tr:only-child th {\n",
       "        text-align: right;\n",
       "    }\n",
       "\n",
       "    .dataframe thead th {\n",
       "        text-align: left;\n",
       "    }\n",
       "\n",
       "    .dataframe tbody tr th {\n",
       "        vertical-align: top;\n",
       "    }\n",
       "</style>\n",
       "<table border=\"1\" class=\"dataframe\">\n",
       "  <thead>\n",
       "    <tr style=\"text-align: right;\">\n",
       "      <th></th>\n",
       "      <th>Territorio</th>\n",
       "      <th>Cittadinanza</th>\n",
       "      <th>Periodo</th>\n",
       "      <th>Sesso</th>\n",
       "      <th>Numero</th>\n",
       "      <th>Regione</th>\n",
       "      <th>totale</th>\n",
       "    </tr>\n",
       "  </thead>\n",
       "  <tbody>\n",
       "    <tr>\n",
       "      <th>30</th>\n",
       "      <td>Piemonte</td>\n",
       "      <td>Andorra</td>\n",
       "      <td>2017</td>\n",
       "      <td>maschi</td>\n",
       "      <td>0</td>\n",
       "      <td>Piemonte</td>\n",
       "      <td>0</td>\n",
       "    </tr>\n",
       "    <tr>\n",
       "      <th>31</th>\n",
       "      <td>Piemonte</td>\n",
       "      <td>Andorra</td>\n",
       "      <td>2017</td>\n",
       "      <td>femmine</td>\n",
       "      <td>-1</td>\n",
       "      <td>Piemonte</td>\n",
       "      <td>0</td>\n",
       "    </tr>\n",
       "    <tr>\n",
       "      <th>32</th>\n",
       "      <td>Piemonte</td>\n",
       "      <td>Andorra</td>\n",
       "      <td>2017</td>\n",
       "      <td>totale</td>\n",
       "      <td>-1</td>\n",
       "      <td>Piemonte</td>\n",
       "      <td>0</td>\n",
       "    </tr>\n",
       "    <tr>\n",
       "      <th>33</th>\n",
       "      <td>Alessandria</td>\n",
       "      <td>Andorra</td>\n",
       "      <td>2017</td>\n",
       "      <td>maschi</td>\n",
       "      <td>0</td>\n",
       "      <td>Piemonte</td>\n",
       "      <td>0</td>\n",
       "    </tr>\n",
       "    <tr>\n",
       "      <th>34</th>\n",
       "      <td>Alessandria</td>\n",
       "      <td>Andorra</td>\n",
       "      <td>2017</td>\n",
       "      <td>femmine</td>\n",
       "      <td>1</td>\n",
       "      <td>Piemonte</td>\n",
       "      <td>0</td>\n",
       "    </tr>\n",
       "  </tbody>\n",
       "</table>\n",
       "</div>"
      ],
      "text/plain": [
       "     Territorio Cittadinanza  Periodo    Sesso  Numero   Regione  totale\n",
       "30     Piemonte      Andorra     2017   maschi       0  Piemonte       0\n",
       "31     Piemonte      Andorra     2017  femmine      -1  Piemonte       0\n",
       "32     Piemonte      Andorra     2017   totale      -1  Piemonte       0\n",
       "33  Alessandria      Andorra     2017   maschi       0  Piemonte       0\n",
       "34  Alessandria      Andorra     2017  femmine       1  Piemonte       0"
      ]
     },
     "execution_count": 213,
     "metadata": {},
     "output_type": "execute_result"
    }
   ],
   "source": [
    "temp.head()"
   ]
  },
  {
   "cell_type": "code",
   "execution_count": 9,
   "metadata": {
    "collapsed": true
   },
   "outputs": [
    {
     "data": {
      "text/plain": [
       "'\\nfor r in regioni:\\n    print(r)\\n    for o in origine:   \\n        comuni = comune_regione[comune_regione[\"Regione\"] == r][\"Comune\"]\\n        for y in years:\\n            temp = 0\\n            for c in comuni:\\n                try:\\n                    temp += resident_foreigners[(resident_foreigners[\"Territorio\"] == c) & (resident_foreigners[\"Cittadinanza\"] == o) & (resident_foreigners[\"Sesso\"] == \"totale\") & (resident_foreigners[\"Periodo\"] == y)][\"Numero\"].values\\n                # Handle missing data\\n                except ValueError:\\n                    pass\\n            if temp != resident_foreigners[(resident_foreigners[\"Territorio\"] == r) & (resident_foreigners[\"Cittadinanza\"] == o) & (resident_foreigners[\"Sesso\"] == \"totale\") & (resident_foreigners[\"Periodo\"] == y)][\"Numero\"].values:\\n                print(temp)\\n'"
      ]
     },
     "execution_count": 9,
     "metadata": {},
     "output_type": "execute_result"
    }
   ],
   "source": [
    "'''\n",
    "for r in regioni:\n",
    "    print(r)\n",
    "    for o in origine:   \n",
    "        comuni = comune_regione[comune_regione[\"Regione\"] == r][\"Comune\"]\n",
    "        for y in years:\n",
    "            temp = 0\n",
    "            for c in comuni:\n",
    "                try:\n",
    "                    temp += resident_foreigners[(resident_foreigners[\"Territorio\"] == c) & (resident_foreigners[\"Cittadinanza\"] == o) & (resident_foreigners[\"Sesso\"] == \"totale\") & (resident_foreigners[\"Periodo\"] == y)][\"Numero\"].values\n",
    "                # Handle missing data\n",
    "                except ValueError:\n",
    "                    pass\n",
    "            if temp != resident_foreigners[(resident_foreigners[\"Territorio\"] == r) & (resident_foreigners[\"Cittadinanza\"] == o) & (resident_foreigners[\"Sesso\"] == \"totale\") & (resident_foreigners[\"Periodo\"] == y)][\"Numero\"].values:\n",
    "                print(temp)\n",
    "'''"
   ]
  },
  {
   "cell_type": "code",
   "execution_count": 9,
   "metadata": {},
   "outputs": [
    {
     "name": "stdout",
     "output_type": "stream",
     "text": [
      "Aggregation maschio + femmina works on 'resident'!\n"
     ]
    }
   ],
   "source": [
    "temp = resident_foreigners.copy()\n",
    "# keep only the municipalities and the region data\n",
    "territori_1 = list(set(list(regione_zona[\"Regione\"]) + list(regione_zona[\"Zona\"])))\n",
    "temp = temp.loc[[i in territori_1 for i in temp[\"Territorio\"]]]\n",
    "\n",
    "# change the sign to the \"total\" elements\n",
    "temp[\"Numero\"][[i in list(set(regione_zona[\"Zona\"])) for i in temp[\"Territorio\"]]] = -temp[\"Numero\"][[i in list(set(regione_zona[\"Zona\"])) for i in temp[\"Territorio\"]]]\n",
    "\n",
    "regioni = list(set(provincia_regione[\"Regione\"]))\n",
    "zone = list(set(regione_zona[\"Zona\"]))\n",
    "\n",
    "# add the regione field, so we can aggregate on it\n",
    "temp[\"Zona\"] = [regione_zona[\"Zona\"][regione_zona[\"Regione\"] == i].values[0] if i in regioni else i for i in temp[\"Territorio\"]]\n",
    "\n",
    "# sum all over the same (Regione, Cittadinanza, Periodo, Sesso)\n",
    "temp['totale'] = temp.groupby([\"Zona\", \"Cittadinanza\", \"Periodo\", \"Sesso\"])['Numero'].transform(np.sum)\n",
    "\n",
    "# the sum should always be 0\n",
    "if len(list(set(temp[\"totale\"]))) == 1 and list(set(temp[\"totale\"]))[0] == 0:\n",
    "    print(\"Zone-Aggregation works on 'resident_foreigners'!\")"
   ]
  },
  {
   "cell_type": "code",
   "execution_count": 11,
   "metadata": {
    "collapsed": true
   },
   "outputs": [
    {
     "data": {
      "text/plain": [
       "'\\nfor z in zone:\\n    print(z)\\n    for o in origine:   \\n        regioni = regione_zona[regione_zona[\"Zona\"] == z][\"Regione\"]\\n        for y in years:\\n            temp = 0\\n            for r in regioni:\\n                try:\\n                    temp += resident_foreigners[(resident_foreigners[\"Territorio\"] == r) & (resident_foreigners[\"Cittadinanza\"] == o) & (resident_foreigners[\"Sesso\"] == \"totale\") & (resident_foreigners[\"Periodo\"] == y)][\"Numero\"].values\\n                # Handle missing data\\n                except ValueError:\\n                    pass\\n            if temp != resident_foreigners[(resident_foreigners[\"Territorio\"] == z) & (resident_foreigners[\"Cittadinanza\"] == o) & (resident_foreigners[\"Sesso\"] == \"totale\") & (resident_foreigners[\"Periodo\"] == y)][\"Numero\"].values:\\n                print(temp)\\n'"
      ]
     },
     "execution_count": 11,
     "metadata": {},
     "output_type": "execute_result"
    }
   ],
   "source": [
    "'''\n",
    "for z in zone:\n",
    "    print(z)\n",
    "    for o in origine:   \n",
    "        regioni = regione_zona[regione_zona[\"Zona\"] == z][\"Regione\"]\n",
    "        for y in years:\n",
    "            temp = 0\n",
    "            for r in regioni:\n",
    "                try:\n",
    "                    temp += resident_foreigners[(resident_foreigners[\"Territorio\"] == r) & (resident_foreigners[\"Cittadinanza\"] == o) & (resident_foreigners[\"Sesso\"] == \"totale\") & (resident_foreigners[\"Periodo\"] == y)][\"Numero\"].values\n",
    "                # Handle missing data\n",
    "                except ValueError:\n",
    "                    pass\n",
    "            if temp != resident_foreigners[(resident_foreigners[\"Territorio\"] == z) & (resident_foreigners[\"Cittadinanza\"] == o) & (resident_foreigners[\"Sesso\"] == \"totale\") & (resident_foreigners[\"Periodo\"] == y)][\"Numero\"].values:\n",
    "                print(temp)\n",
    "'''"
   ]
  },
  {
   "cell_type": "code",
   "execution_count": 10,
   "metadata": {},
   "outputs": [
    {
     "name": "stdout",
     "output_type": "stream",
     "text": [
      "Aggregation maschio + femmina works on 'resident_foreigners'!\n"
     ]
    },
    {
     "name": "stderr",
     "output_type": "stream",
     "text": [
      "/home/sara/myenv/lib64/python3.6/site-packages/ipykernel_launcher.py:3: SettingWithCopyWarning: \n",
      "A value is trying to be set on a copy of a slice from a DataFrame\n",
      "\n",
      "See the caveats in the documentation: http://pandas.pydata.org/pandas-docs/stable/indexing.html#indexing-view-versus-copy\n",
      "  This is separate from the ipykernel package so we can avoid doing imports until\n"
     ]
    }
   ],
   "source": [
    "temp = resident_foreigners.copy()\n",
    "# change the sign to the \"total\" elements\n",
    "temp[\"Numero\"][temp[temp[\"Sesso\"] == \"totale\"].index] = -temp[\"Numero\"][temp[temp[\"Sesso\"] == \"totale\"].index]\n",
    "# sum all over the same (Territorio, Cittadinanza, Periodo)\n",
    "temp['totale'] = temp.groupby([\"Territorio\", \"Cittadinanza\", \"Periodo\"])['Numero'].transform(np.sum)\n",
    "\n",
    "# the sum should always be 0\n",
    "if len(list(set(temp[\"totale\"]))) == 1 and list(set(temp[\"totale\"]))[0] == 0:\n",
    "    print(\"Aggregation maschio + femmina works on 'resident_foreigners'!\")"
   ]
  },
  {
   "cell_type": "markdown",
   "metadata": {},
   "source": [
    "### Resident Check"
   ]
  },
  {
   "cell_type": "code",
   "execution_count": 11,
   "metadata": {},
   "outputs": [
    {
     "name": "stdout",
     "output_type": "stream",
     "text": [
      "Aggregation maschio + femmina works on 'resident'!\n"
     ]
    }
   ],
   "source": [
    "temp = resident.copy()\n",
    "# keep only the municipalities and the region data\n",
    "territori_1 = list(set(list(provincia_regione[\"Provincia\"]) + list(provincia_regione[\"Regione\"])))\n",
    "temp = temp.loc[[i in territori_1 for i in temp[\"Territorio\"]]]\n",
    "# do not consider the Valle d'Aosta / Vallée d'Aoste data since the aggregate and the singular data coincide\n",
    "temp = temp[temp[\"Territorio\"] != \"Valle d'Aosta / Vallée d'Aoste\"]\n",
    "# change the sign to the \"total\" elements\n",
    "temp[\"Numero\"][[i in list(set(provincia_regione[\"Regione\"])) for i in temp[\"Territorio\"]]] = -temp[\"Numero\"][[i in list(set(provincia_regione[\"Regione\"])) for i in temp[\"Territorio\"]]]\n",
    "\n",
    "regioni = list(set(provincia_regione[\"Regione\"]))\n",
    "province = list(set(provincia_regione[\"Provincia\"]))\n",
    "# add the regione field, so we can aggregate on it\n",
    "temp[\"Regione\"] = [provincia_regione[\"Regione\"][provincia_regione[\"Provincia\"] == i].values[0] if i in province else i for i in temp[\"Territorio\"]]\n",
    "\n",
    "# sum all over the same (Regione, Periodo, Sesso)\n",
    "temp['totale'] = temp.groupby([\"Regione\", \"Periodo\", \"Sesso\"])['Numero'].transform(np.sum)\n",
    "\n",
    "# the sum should always be 0\n",
    "if len(list(set(temp[\"totale\"]))) == 1 and list(set(temp[\"totale\"]))[0] == 0:\n",
    "    print(\"Aggregation maschio + femmina works on 'resident'!\")"
   ]
  },
  {
   "cell_type": "code",
   "execution_count": 12,
   "metadata": {},
   "outputs": [
    {
     "name": "stdout",
     "output_type": "stream",
     "text": [
      "Aggregation maschio + femmina works on 'resident'!\n"
     ]
    }
   ],
   "source": [
    "temp = resident.copy()\n",
    "# keep only the region and the zone data\n",
    "territori_1 = list(set(list(regione_zona[\"Regione\"]) + list(regione_zona[\"Zona\"])))\n",
    "temp = temp.loc[[i in territori_1 for i in temp[\"Territorio\"]]]\n",
    "\n",
    "# change the sign to the \"total\" elements\n",
    "temp[\"Numero\"][[i in list(set(regione_zona[\"Zona\"])) for i in temp[\"Territorio\"]]] = -temp[\"Numero\"][[i in list(set(regione_zona[\"Zona\"])) for i in temp[\"Territorio\"]]]\n",
    "\n",
    "regioni = list(set(provincia_regione[\"Regione\"]))\n",
    "zone = list(set(regione_zona[\"Zona\"]))\n",
    "\n",
    "# add the regione field, so we can aggregate on it\n",
    "temp[\"Zona\"] = [regione_zona[\"Zona\"][regione_zona[\"Regione\"] == i].values[0] if i in regioni else i for i in temp[\"Territorio\"]]\n",
    "\n",
    "# sum all over the same (Regione, Periodo, Sesso)\n",
    "temp['totale'] = temp.groupby([\"Zona\", \"Periodo\", \"Sesso\"])['Numero'].transform(np.sum)\n",
    "\n",
    "# the sum should always be 0\n",
    "if len(list(set(temp[\"totale\"]))) == 1 and list(set(temp[\"totale\"]))[0] == 0:\n",
    "    print(\"Aggregation maschio + femmina works on 'resident'!\")"
   ]
  },
  {
   "cell_type": "code",
   "execution_count": 13,
   "metadata": {},
   "outputs": [
    {
     "name": "stdout",
     "output_type": "stream",
     "text": [
      "Aggregation maschio + femmina works on 'resident'!\n"
     ]
    },
    {
     "name": "stderr",
     "output_type": "stream",
     "text": [
      "/home/sara/myenv/lib64/python3.6/site-packages/ipykernel_launcher.py:3: SettingWithCopyWarning: \n",
      "A value is trying to be set on a copy of a slice from a DataFrame\n",
      "\n",
      "See the caveats in the documentation: http://pandas.pydata.org/pandas-docs/stable/indexing.html#indexing-view-versus-copy\n",
      "  This is separate from the ipykernel package so we can avoid doing imports until\n"
     ]
    }
   ],
   "source": [
    "temp = resident.copy()\n",
    "# change the sign to the \"total\" elements\n",
    "temp[\"Numero\"][temp[temp[\"Sesso\"] == \"totale\"].index] = -temp[\"Numero\"][temp[temp[\"Sesso\"] == \"totale\"].index]\n",
    "# sum all over the same (Territorio, Periodo)\n",
    "temp['totale'] = temp.groupby([\"Territorio\", \"Periodo\"])['Numero'].transform(np.sum)\n",
    "\n",
    "# the sum should always be 0\n",
    "if len(list(set(temp[\"totale\"]))) == 1 and list(set(temp[\"totale\"]))[0] == 0:\n",
    "    print(\"Aggregation maschio + femmina works on 'resident'!\")"
   ]
  },
  {
   "cell_type": "markdown",
   "metadata": {},
   "source": [
    "The aggragation checks are verified. Thus, it's possible to drop duplication to get the normal form."
   ]
  },
  {
   "cell_type": "markdown",
   "metadata": {},
   "source": [
    "### .. to Normal Form"
   ]
  },
  {
   "cell_type": "code",
   "execution_count": 202,
   "metadata": {},
   "outputs": [],
   "source": [
    "resident_foreigners_norm = resident_foreigners.copy() \n",
    "\n",
    "# drop region and zone data\n",
    "territori_1 = set(list(regione_zona[\"Regione\"]) + (list(regione_zona[\"Zona\"]) + list([\"Italia\"]))) \n",
    "resident_foreigners_norm = resident_foreigners_norm.loc[[i not in territori_1 for i in resident_foreigners_norm[\"Territorio\"]]]\n",
    "# drop total (mashio+femmina) data\n",
    "resident_foreigners_norm = resident_foreigners_norm[resident_foreigners_norm[\"Sesso\"] != \"totale\"]\n",
    "\n",
    "resident_foreigners_norm.index = range(len(resident_foreigners_norm))"
   ]
  },
  {
   "cell_type": "code",
   "execution_count": 203,
   "metadata": {},
   "outputs": [],
   "source": [
    "resident_norm = resident.copy() \n",
    "\n",
    "# drop region and zone data\n",
    "territori_1 = set(list(regione_zona[\"Regione\"]) + (list(regione_zona[\"Zona\"]) + list([\"Italia\"]))) \n",
    "resident_norm = resident_norm.loc[[i not in territori_1 for i in resident_norm[\"Territorio\"]]]\n",
    "# drop total (mashio+femmina) data\n",
    "resident_norm = resident_norm[resident_norm[\"Sesso\"] != \"totale\"]\n",
    "\n",
    "resident_norm.index = range(len(resident_norm))"
   ]
  },
  {
   "cell_type": "code",
   "execution_count": 207,
   "metadata": {},
   "outputs": [],
   "source": [
    "# Provincia is now better than generic Territorio\n",
    "resident_norm.rename(columns = {\"Territorio\": \"Provincia\"}, inplace=True)\n",
    "resident_foreigners_norm.rename(columns = {\"Territorio\": \"Provincia\"}, inplace=True)"
   ]
  },
  {
   "cell_type": "code",
   "execution_count": 208,
   "metadata": {},
   "outputs": [
    {
     "data": {
      "text/html": [
       "<div>\n",
       "<style>\n",
       "    .dataframe thead tr:only-child th {\n",
       "        text-align: right;\n",
       "    }\n",
       "\n",
       "    .dataframe thead th {\n",
       "        text-align: left;\n",
       "    }\n",
       "\n",
       "    .dataframe tbody tr th {\n",
       "        vertical-align: top;\n",
       "    }\n",
       "</style>\n",
       "<table border=\"1\" class=\"dataframe\">\n",
       "  <thead>\n",
       "    <tr style=\"text-align: right;\">\n",
       "      <th></th>\n",
       "      <th>Provincia</th>\n",
       "      <th>Periodo</th>\n",
       "      <th>Sesso</th>\n",
       "      <th>Numero</th>\n",
       "    </tr>\n",
       "  </thead>\n",
       "  <tbody>\n",
       "    <tr>\n",
       "      <th>0</th>\n",
       "      <td>Torino</td>\n",
       "      <td>2013</td>\n",
       "      <td>maschi</td>\n",
       "      <td>1084528</td>\n",
       "    </tr>\n",
       "    <tr>\n",
       "      <th>1</th>\n",
       "      <td>Torino</td>\n",
       "      <td>2014</td>\n",
       "      <td>maschi</td>\n",
       "      <td>1109048</td>\n",
       "    </tr>\n",
       "    <tr>\n",
       "      <th>2</th>\n",
       "      <td>Torino</td>\n",
       "      <td>2015</td>\n",
       "      <td>maschi</td>\n",
       "      <td>1105608</td>\n",
       "    </tr>\n",
       "    <tr>\n",
       "      <th>3</th>\n",
       "      <td>Torino</td>\n",
       "      <td>2016</td>\n",
       "      <td>maschi</td>\n",
       "      <td>1101427</td>\n",
       "    </tr>\n",
       "    <tr>\n",
       "      <th>4</th>\n",
       "      <td>Torino</td>\n",
       "      <td>2017</td>\n",
       "      <td>maschi</td>\n",
       "      <td>1100562</td>\n",
       "    </tr>\n",
       "  </tbody>\n",
       "</table>\n",
       "</div>"
      ],
      "text/plain": [
       "  Provincia  Periodo   Sesso   Numero\n",
       "0    Torino     2013  maschi  1084528\n",
       "1    Torino     2014  maschi  1109048\n",
       "2    Torino     2015  maschi  1105608\n",
       "3    Torino     2016  maschi  1101427\n",
       "4    Torino     2017  maschi  1100562"
      ]
     },
     "execution_count": 208,
     "metadata": {},
     "output_type": "execute_result"
    }
   ],
   "source": [
    "resident_norm.head()"
   ]
  },
  {
   "cell_type": "code",
   "execution_count": 209,
   "metadata": {},
   "outputs": [
    {
     "data": {
      "text/html": [
       "<div>\n",
       "<style>\n",
       "    .dataframe thead tr:only-child th {\n",
       "        text-align: right;\n",
       "    }\n",
       "\n",
       "    .dataframe thead th {\n",
       "        text-align: left;\n",
       "    }\n",
       "\n",
       "    .dataframe tbody tr th {\n",
       "        vertical-align: top;\n",
       "    }\n",
       "</style>\n",
       "<table border=\"1\" class=\"dataframe\">\n",
       "  <thead>\n",
       "    <tr style=\"text-align: right;\">\n",
       "      <th></th>\n",
       "      <th>Provincia</th>\n",
       "      <th>Cittadinanza</th>\n",
       "      <th>Periodo</th>\n",
       "      <th>Sesso</th>\n",
       "      <th>Numero</th>\n",
       "    </tr>\n",
       "  </thead>\n",
       "  <tbody>\n",
       "    <tr>\n",
       "      <th>0</th>\n",
       "      <td>Alessandria</td>\n",
       "      <td>Andorra</td>\n",
       "      <td>2017</td>\n",
       "      <td>maschi</td>\n",
       "      <td>0</td>\n",
       "    </tr>\n",
       "    <tr>\n",
       "      <th>1</th>\n",
       "      <td>Alessandria</td>\n",
       "      <td>Andorra</td>\n",
       "      <td>2017</td>\n",
       "      <td>femmine</td>\n",
       "      <td>1</td>\n",
       "    </tr>\n",
       "    <tr>\n",
       "      <th>2</th>\n",
       "      <td>Genova</td>\n",
       "      <td>Andorra</td>\n",
       "      <td>2013</td>\n",
       "      <td>maschi</td>\n",
       "      <td>0</td>\n",
       "    </tr>\n",
       "    <tr>\n",
       "      <th>3</th>\n",
       "      <td>Genova</td>\n",
       "      <td>Andorra</td>\n",
       "      <td>2013</td>\n",
       "      <td>femmine</td>\n",
       "      <td>1</td>\n",
       "    </tr>\n",
       "    <tr>\n",
       "      <th>4</th>\n",
       "      <td>Como</td>\n",
       "      <td>Andorra</td>\n",
       "      <td>2013</td>\n",
       "      <td>maschi</td>\n",
       "      <td>0</td>\n",
       "    </tr>\n",
       "  </tbody>\n",
       "</table>\n",
       "</div>"
      ],
      "text/plain": [
       "     Provincia Cittadinanza  Periodo    Sesso  Numero\n",
       "0  Alessandria      Andorra     2017   maschi       0\n",
       "1  Alessandria      Andorra     2017  femmine       1\n",
       "2       Genova      Andorra     2013   maschi       0\n",
       "3       Genova      Andorra     2013  femmine       1\n",
       "4         Como      Andorra     2013   maschi       0"
      ]
     },
     "execution_count": 209,
     "metadata": {},
     "output_type": "execute_result"
    }
   ],
   "source": [
    "resident_foreigners_norm.head()"
   ]
  },
  {
   "cell_type": "code",
   "execution_count": 210,
   "metadata": {},
   "outputs": [],
   "source": [
    "# dump\n",
    "resident_norm.to_csv(\"Data_norm/resident_norm.csv\")\n",
    "resident_foreigners_norm.to_csv(\"Data_norm/resident_foreigners_norm.csv\")"
   ]
  },
  {
   "cell_type": "markdown",
   "metadata": {},
   "source": [
    "### Distances"
   ]
  },
  {
   "cell_type": "code",
   "execution_count": 137,
   "metadata": {},
   "outputs": [],
   "source": [
    "# country specific table\n",
    "geo_info = pd.read_table(path+\"geo_cepii.tsv\", sep = \"\\t\")\n",
    "geo_info = geo_info[['iso2', 'iso3', 'country', 'area', 'dis_int', 'landlocked', 'continent', 'langoff_1', \n",
    "                     'langoff_2', 'langoff_3', 'lang20_1', 'lang20_2', 'lang20_3', 'lang20_4', 'lang9_1', 'lang9_2', \n",
    "                     'lang9_3', 'lang9_4', 'colonizer1', 'colonizer2', 'colonizer3','colonizer4', 'short_colonizer1', \n",
    "                     'short_colonizer2','short_colonizer3']]\n",
    "# pair of countries distances table\n",
    "geo_dist = pd.read_table(path+\"dist_cepii.tsv\", sep = \"\\t\", na_values = {\"distw\": '.', \"distwces\": '.'})\n",
    "geo_dist = geo_dist[['iso_o', 'iso_d', 'contig', 'dist', 'distcap', 'distw', 'distwces']]"
   ]
  },
  {
   "cell_type": "code",
   "execution_count": 138,
   "metadata": {},
   "outputs": [],
   "source": [
    "geo_info[\"dis_int\"] = [float(geo_info[\"dis_int\"][i].replace(\",\", \".\")) for i in geo_info.index]\n",
    "geo_info[\"area\"] = geo_info[\"area\"].astype(int)\n",
    "\n",
    "geo_dist[\"dist\"] = [float(geo_dist[\"dist\"][i].replace(\",\", \".\")) for i in geo_dist.index]\n",
    "geo_dist[\"distcap\"] = [float(geo_dist[\"distcap\"][i].replace(\",\", \".\")) for i in geo_dist.index]\n",
    "geo_dist[\"distw\"] = [float(geo_dist[\"distw\"][i].replace(\",\", \".\")) if geo_dist[\"distw\"][i] is not np.nan else np.nan for i in geo_dist.index]\n",
    "geo_dist[\"distwces\"] = [float(geo_dist[\"distwces\"][i].replace(\",\", \".\")) if geo_dist[\"distwces\"][i] is not np.nan else np.nan for i in geo_dist.index]"
   ]
  },
  {
   "cell_type": "code",
   "execution_count": 139,
   "metadata": {},
   "outputs": [
    {
     "data": {
      "text/html": [
       "<div>\n",
       "<style>\n",
       "    .dataframe thead tr:only-child th {\n",
       "        text-align: right;\n",
       "    }\n",
       "\n",
       "    .dataframe thead th {\n",
       "        text-align: left;\n",
       "    }\n",
       "\n",
       "    .dataframe tbody tr th {\n",
       "        vertical-align: top;\n",
       "    }\n",
       "</style>\n",
       "<table border=\"1\" class=\"dataframe\">\n",
       "  <thead>\n",
       "    <tr style=\"text-align: right;\">\n",
       "      <th></th>\n",
       "      <th>iso2</th>\n",
       "      <th>iso3</th>\n",
       "      <th>country</th>\n",
       "      <th>area</th>\n",
       "      <th>dis_int</th>\n",
       "      <th>landlocked</th>\n",
       "      <th>continent</th>\n",
       "      <th>langoff_1</th>\n",
       "      <th>langoff_2</th>\n",
       "      <th>langoff_3</th>\n",
       "      <th>...</th>\n",
       "      <th>lang9_2</th>\n",
       "      <th>lang9_3</th>\n",
       "      <th>lang9_4</th>\n",
       "      <th>colonizer1</th>\n",
       "      <th>colonizer2</th>\n",
       "      <th>colonizer3</th>\n",
       "      <th>colonizer4</th>\n",
       "      <th>short_colonizer1</th>\n",
       "      <th>short_colonizer2</th>\n",
       "      <th>short_colonizer3</th>\n",
       "    </tr>\n",
       "  </thead>\n",
       "  <tbody>\n",
       "    <tr>\n",
       "      <th>0</th>\n",
       "      <td>AW</td>\n",
       "      <td>ABW</td>\n",
       "      <td>Aruba</td>\n",
       "      <td>193</td>\n",
       "      <td>5.225315</td>\n",
       "      <td>0</td>\n",
       "      <td>America</td>\n",
       "      <td>Dutch</td>\n",
       "      <td>Spanish</td>\n",
       "      <td>.</td>\n",
       "      <td>...</td>\n",
       "      <td>.</td>\n",
       "      <td>.</td>\n",
       "      <td>.</td>\n",
       "      <td>NLD</td>\n",
       "      <td>.</td>\n",
       "      <td>.</td>\n",
       "      <td>.</td>\n",
       "      <td>.</td>\n",
       "      <td>.</td>\n",
       "      <td>.</td>\n",
       "    </tr>\n",
       "    <tr>\n",
       "      <th>1</th>\n",
       "      <td>AF</td>\n",
       "      <td>AFG</td>\n",
       "      <td>Afghanistan</td>\n",
       "      <td>652225</td>\n",
       "      <td>303.761400</td>\n",
       "      <td>1</td>\n",
       "      <td>Asia</td>\n",
       "      <td>Persian</td>\n",
       "      <td>.</td>\n",
       "      <td>.</td>\n",
       "      <td>...</td>\n",
       "      <td>Uzbek</td>\n",
       "      <td>.</td>\n",
       "      <td>.</td>\n",
       "      <td>.</td>\n",
       "      <td>.</td>\n",
       "      <td>.</td>\n",
       "      <td>.</td>\n",
       "      <td>GBR</td>\n",
       "      <td>.</td>\n",
       "      <td>.</td>\n",
       "    </tr>\n",
       "    <tr>\n",
       "      <th>2</th>\n",
       "      <td>AO</td>\n",
       "      <td>AGO</td>\n",
       "      <td>Angola</td>\n",
       "      <td>1246700</td>\n",
       "      <td>419.966600</td>\n",
       "      <td>0</td>\n",
       "      <td>Africa</td>\n",
       "      <td>Portuguese</td>\n",
       "      <td>.</td>\n",
       "      <td>.</td>\n",
       "      <td>...</td>\n",
       "      <td>.</td>\n",
       "      <td>.</td>\n",
       "      <td>.</td>\n",
       "      <td>PRT</td>\n",
       "      <td>.</td>\n",
       "      <td>.</td>\n",
       "      <td>.</td>\n",
       "      <td>.</td>\n",
       "      <td>.</td>\n",
       "      <td>.</td>\n",
       "    </tr>\n",
       "    <tr>\n",
       "      <th>3</th>\n",
       "      <td>AI</td>\n",
       "      <td>AIA</td>\n",
       "      <td>Anguilla</td>\n",
       "      <td>102</td>\n",
       "      <td>3.798690</td>\n",
       "      <td>0</td>\n",
       "      <td>America</td>\n",
       "      <td>English</td>\n",
       "      <td>.</td>\n",
       "      <td>.</td>\n",
       "      <td>...</td>\n",
       "      <td>.</td>\n",
       "      <td>.</td>\n",
       "      <td>.</td>\n",
       "      <td>GBR</td>\n",
       "      <td>.</td>\n",
       "      <td>.</td>\n",
       "      <td>.</td>\n",
       "      <td>.</td>\n",
       "      <td>.</td>\n",
       "      <td>.</td>\n",
       "    </tr>\n",
       "    <tr>\n",
       "      <th>4</th>\n",
       "      <td>AL</td>\n",
       "      <td>ALB</td>\n",
       "      <td>Albania</td>\n",
       "      <td>28748</td>\n",
       "      <td>63.773110</td>\n",
       "      <td>0</td>\n",
       "      <td>Europe</td>\n",
       "      <td>Albanian</td>\n",
       "      <td>.</td>\n",
       "      <td>.</td>\n",
       "      <td>...</td>\n",
       "      <td>.</td>\n",
       "      <td>.</td>\n",
       "      <td>.</td>\n",
       "      <td>TUR</td>\n",
       "      <td>.</td>\n",
       "      <td>.</td>\n",
       "      <td>.</td>\n",
       "      <td>.</td>\n",
       "      <td>.</td>\n",
       "      <td>.</td>\n",
       "    </tr>\n",
       "  </tbody>\n",
       "</table>\n",
       "<p>5 rows × 25 columns</p>\n",
       "</div>"
      ],
      "text/plain": [
       "  iso2 iso3      country     area     dis_int  landlocked continent  \\\n",
       "0   AW  ABW        Aruba      193    5.225315           0   America   \n",
       "1   AF  AFG  Afghanistan   652225  303.761400           1      Asia   \n",
       "2   AO  AGO       Angola  1246700  419.966600           0    Africa   \n",
       "3   AI  AIA     Anguilla      102    3.798690           0   America   \n",
       "4   AL  ALB      Albania    28748   63.773110           0    Europe   \n",
       "\n",
       "    langoff_1 langoff_2 langoff_3       ...        lang9_2 lang9_3 lang9_4  \\\n",
       "0       Dutch   Spanish         .       ...              .       .       .   \n",
       "1     Persian         .         .       ...          Uzbek       .       .   \n",
       "2  Portuguese         .         .       ...              .       .       .   \n",
       "3     English         .         .       ...              .       .       .   \n",
       "4    Albanian         .         .       ...              .       .       .   \n",
       "\n",
       "  colonizer1 colonizer2 colonizer3 colonizer4 short_colonizer1  \\\n",
       "0        NLD          .          .          .                .   \n",
       "1          .          .          .          .              GBR   \n",
       "2        PRT          .          .          .                .   \n",
       "3        GBR          .          .          .                .   \n",
       "4        TUR          .          .          .                .   \n",
       "\n",
       "  short_colonizer2 short_colonizer3  \n",
       "0                .                .  \n",
       "1                .                .  \n",
       "2                .                .  \n",
       "3                .                .  \n",
       "4                .                .  \n",
       "\n",
       "[5 rows x 25 columns]"
      ]
     },
     "execution_count": 139,
     "metadata": {},
     "output_type": "execute_result"
    }
   ],
   "source": [
    "geo_info.head()"
   ]
  },
  {
   "cell_type": "code",
   "execution_count": 140,
   "metadata": {},
   "outputs": [
    {
     "data": {
      "text/html": [
       "<div>\n",
       "<style>\n",
       "    .dataframe thead tr:only-child th {\n",
       "        text-align: right;\n",
       "    }\n",
       "\n",
       "    .dataframe thead th {\n",
       "        text-align: left;\n",
       "    }\n",
       "\n",
       "    .dataframe tbody tr th {\n",
       "        vertical-align: top;\n",
       "    }\n",
       "</style>\n",
       "<table border=\"1\" class=\"dataframe\">\n",
       "  <thead>\n",
       "    <tr style=\"text-align: right;\">\n",
       "      <th></th>\n",
       "      <th>iso_o</th>\n",
       "      <th>iso_d</th>\n",
       "      <th>contig</th>\n",
       "      <th>dist</th>\n",
       "      <th>distcap</th>\n",
       "      <th>distw</th>\n",
       "      <th>distwces</th>\n",
       "    </tr>\n",
       "  </thead>\n",
       "  <tbody>\n",
       "    <tr>\n",
       "      <th>0</th>\n",
       "      <td>ABW</td>\n",
       "      <td>ABW</td>\n",
       "      <td>0</td>\n",
       "      <td>5.225315</td>\n",
       "      <td>5.225315</td>\n",
       "      <td>25.09354</td>\n",
       "      <td>23.04723</td>\n",
       "    </tr>\n",
       "    <tr>\n",
       "      <th>1</th>\n",
       "      <td>ABW</td>\n",
       "      <td>AFG</td>\n",
       "      <td>0</td>\n",
       "      <td>13257.810000</td>\n",
       "      <td>13257.810000</td>\n",
       "      <td>13168.22000</td>\n",
       "      <td>13166.37000</td>\n",
       "    </tr>\n",
       "    <tr>\n",
       "      <th>2</th>\n",
       "      <td>ABW</td>\n",
       "      <td>AGO</td>\n",
       "      <td>0</td>\n",
       "      <td>9516.913000</td>\n",
       "      <td>9516.913000</td>\n",
       "      <td>9587.31600</td>\n",
       "      <td>9584.19300</td>\n",
       "    </tr>\n",
       "    <tr>\n",
       "      <th>3</th>\n",
       "      <td>ABW</td>\n",
       "      <td>AIA</td>\n",
       "      <td>0</td>\n",
       "      <td>983.268200</td>\n",
       "      <td>983.268200</td>\n",
       "      <td>976.89740</td>\n",
       "      <td>976.89160</td>\n",
       "    </tr>\n",
       "    <tr>\n",
       "      <th>4</th>\n",
       "      <td>ABW</td>\n",
       "      <td>ALB</td>\n",
       "      <td>0</td>\n",
       "      <td>9091.742000</td>\n",
       "      <td>9091.742000</td>\n",
       "      <td>9091.57600</td>\n",
       "      <td>9091.46600</td>\n",
       "    </tr>\n",
       "  </tbody>\n",
       "</table>\n",
       "</div>"
      ],
      "text/plain": [
       "  iso_o iso_d  contig          dist       distcap        distw     distwces\n",
       "0   ABW   ABW       0      5.225315      5.225315     25.09354     23.04723\n",
       "1   ABW   AFG       0  13257.810000  13257.810000  13168.22000  13166.37000\n",
       "2   ABW   AGO       0   9516.913000   9516.913000   9587.31600   9584.19300\n",
       "3   ABW   AIA       0    983.268200    983.268200    976.89740    976.89160\n",
       "4   ABW   ALB       0   9091.742000   9091.742000   9091.57600   9091.46600"
      ]
     },
     "execution_count": 140,
     "metadata": {},
     "output_type": "execute_result"
    }
   ],
   "source": [
    "geo_dist.head()"
   ]
  },
  {
   "cell_type": "markdown",
   "metadata": {},
   "source": [
    "Geo-distances variables:\n",
    "- iso_o, iso_d: ISO codes in three characters;\n",
    "- contig: dummy, whether the two countries are contiguous;\n",
    "- comlang_off: dummy, whether the two countries share the same official language;\n",
    "- comcol: dummy, whether the two countries have had a common colonizer after 1945;\n",
    "- colony: dummy, whether the two countries have had a colonial link;\n",
    "- col45: dummy, whether the two countries have had a colonial relationship after tionship 1945;\n",
    "- curcol: dummy, whether the two countries are currently in a colonial relationship;\n",
    "- smctry: dummy, whether the two countries were/are the same country;\n",
    "- dist: simple distance between the most important cities (in terms of population) of the two countries;\n",
    "- distcap: simple distance between the most capital cities of the two countries;\n",
    "- distw, distwces: weighted distances; distance between the largest cities of the two countries - those inter cities distances are weighted by the share of the city in the overall country's population.\n"
   ]
  },
  {
   "cell_type": "markdown",
   "metadata": {},
   "source": [
    "Problem: there is no matching between the countries in the resident_foreigner and the those in the geo_info. In the first table info are in italian, in the second in english. A tranlation is needed."
   ]
  },
  {
   "cell_type": "code",
   "execution_count": 23,
   "metadata": {},
   "outputs": [],
   "source": [
    "# consider only the distances involving Italy\n",
    "italia_iso = \"ITA\"\n",
    "geo_dist_ita = geo_dist[geo_dist[\"iso_o\"] == \"ITA\"]\n",
    "geo_dist_ita.index = range(len(geo_dist_ita))\n",
    "\n",
    "# store the once egual both in italian and english - in order to have less requests to google translate\n",
    "countries = list(set(resident_foreigners_norm[\"Cittadinanza\"]))\n",
    "#countries_en = {i: i for i in countries if i in geo_info[\"country\"].values} \n",
    "# define the list of countries to translate\n",
    "#countries_to_translate = list(countries - countries_en.keys())"
   ]
  },
  {
   "cell_type": "code",
   "execution_count": 144,
   "metadata": {},
   "outputs": [],
   "source": [
    "# iso2 of all countries\n",
    "iso2 = {geo_info[\"country\"][i]: geo_info[\"iso2\"][i] for i in geo_info.index}\n",
    "\n",
    "# translate the countries using babel\n",
    "countries_translation = {}\n",
    "not_found = []\n",
    "locale = Locale('it')\n",
    "for c in iso2.keys():\n",
    "    try:\n",
    "        countries_translation[c] = locale.territories[iso2[c]]\n",
    "    except:\n",
    "        not_found.append(c)\n",
    "\n",
    "# translate the countries not found by babel (just 5) using google translate\n",
    "for c in not_found:\n",
    "    countries_translation[c] = translator(\"en\", \"it\", c)[0][0][0]"
   ]
  },
  {
   "cell_type": "code",
   "execution_count": 221,
   "metadata": {},
   "outputs": [
    {
     "ename": "HTTPError",
     "evalue": "503 Server Error: Service Unavailable for url: https://translate.google.com/translate_a/single?client=a&ie=utf-8&oe=utf-8&dt=t&sl=en&tl=it&q=Namibia",
     "output_type": "error",
     "traceback": [
      "\u001b[0;31m---------------------------------------------------------------------------\u001b[0m",
      "\u001b[0;31mHTTPError\u001b[0m                                 Traceback (most recent call last)",
      "\u001b[0;32m<ipython-input-221-f9cf91c68dca>\u001b[0m in \u001b[0;36m<module>\u001b[0;34m()\u001b[0m\n\u001b[0;32m----> 1\u001b[0;31m \u001b[0mtranslator\u001b[0m\u001b[0;34m(\u001b[0m\u001b[0;34m\"en\"\u001b[0m\u001b[0;34m,\u001b[0m \u001b[0;34m\"it\"\u001b[0m\u001b[0;34m,\u001b[0m \u001b[0;34m'Namibia'\u001b[0m\u001b[0;34m)\u001b[0m\u001b[0;34m[\u001b[0m\u001b[0;36m0\u001b[0m\u001b[0;34m]\u001b[0m\u001b[0;34m[\u001b[0m\u001b[0;36m0\u001b[0m\u001b[0;34m]\u001b[0m\u001b[0;34m[\u001b[0m\u001b[0;36m0\u001b[0m\u001b[0;34m]\u001b[0m\u001b[0;34m\u001b[0m\u001b[0m\n\u001b[0m",
      "\u001b[0;32m~/myenv/lib64/python3.6/site-packages/translate/translator.py\u001b[0m in \u001b[0;36mconnection\u001b[0;34m(*args, **kwargs)\u001b[0m\n\u001b[1;32m     49\u001b[0m \u001b[0;34m\u001b[0m\u001b[0m\n\u001b[1;32m     50\u001b[0m         \u001b[0;32mif\u001b[0m \u001b[0mresponse\u001b[0m\u001b[0;34m.\u001b[0m\u001b[0mstatus_code\u001b[0m \u001b[0;34m!=\u001b[0m \u001b[0mrequests\u001b[0m\u001b[0;34m.\u001b[0m\u001b[0mcodes\u001b[0m\u001b[0;34m.\u001b[0m\u001b[0mok\u001b[0m\u001b[0;34m:\u001b[0m\u001b[0;34m\u001b[0m\u001b[0m\n\u001b[0;32m---> 51\u001b[0;31m             \u001b[0mresponse\u001b[0m\u001b[0;34m.\u001b[0m\u001b[0mraise_for_status\u001b[0m\u001b[0;34m(\u001b[0m\u001b[0;34m)\u001b[0m\u001b[0;34m\u001b[0m\u001b[0m\n\u001b[0m\u001b[1;32m     52\u001b[0m \u001b[0;34m\u001b[0m\u001b[0m\n\u001b[1;32m     53\u001b[0m         \u001b[0mcleanup\u001b[0m \u001b[0;34m=\u001b[0m \u001b[0mre\u001b[0m\u001b[0;34m.\u001b[0m\u001b[0msubn\u001b[0m\u001b[0;34m(\u001b[0m\u001b[0;34mr',(?=,)'\u001b[0m\u001b[0;34m,\u001b[0m \u001b[0;34m''\u001b[0m\u001b[0;34m,\u001b[0m \u001b[0mresponse\u001b[0m\u001b[0;34m.\u001b[0m\u001b[0mcontent\u001b[0m\u001b[0;34m.\u001b[0m\u001b[0mdecode\u001b[0m\u001b[0;34m(\u001b[0m\u001b[0;34m'utf-8'\u001b[0m\u001b[0;34m)\u001b[0m\u001b[0;34m)\u001b[0m\u001b[0;34m[\u001b[0m\u001b[0;36m0\u001b[0m\u001b[0;34m]\u001b[0m\u001b[0;34m\u001b[0m\u001b[0m\n",
      "\u001b[0;32m~/myenv/lib64/python3.6/site-packages/requests/models.py\u001b[0m in \u001b[0;36mraise_for_status\u001b[0;34m(self)\u001b[0m\n\u001b[1;32m    933\u001b[0m \u001b[0;34m\u001b[0m\u001b[0m\n\u001b[1;32m    934\u001b[0m         \u001b[0;32mif\u001b[0m \u001b[0mhttp_error_msg\u001b[0m\u001b[0;34m:\u001b[0m\u001b[0;34m\u001b[0m\u001b[0m\n\u001b[0;32m--> 935\u001b[0;31m             \u001b[0;32mraise\u001b[0m \u001b[0mHTTPError\u001b[0m\u001b[0;34m(\u001b[0m\u001b[0mhttp_error_msg\u001b[0m\u001b[0;34m,\u001b[0m \u001b[0mresponse\u001b[0m\u001b[0;34m=\u001b[0m\u001b[0mself\u001b[0m\u001b[0;34m)\u001b[0m\u001b[0;34m\u001b[0m\u001b[0m\n\u001b[0m\u001b[1;32m    936\u001b[0m \u001b[0;34m\u001b[0m\u001b[0m\n\u001b[1;32m    937\u001b[0m     \u001b[0;32mdef\u001b[0m \u001b[0mclose\u001b[0m\u001b[0;34m(\u001b[0m\u001b[0mself\u001b[0m\u001b[0;34m)\u001b[0m\u001b[0;34m:\u001b[0m\u001b[0;34m\u001b[0m\u001b[0m\n",
      "\u001b[0;31mHTTPError\u001b[0m: 503 Server Error: Service Unavailable for url: https://translate.google.com/translate_a/single?client=a&ie=utf-8&oe=utf-8&dt=t&sl=en&tl=it&q=Namibia"
     ]
    }
   ],
   "source": [
    "translator(\"en\", \"it\", 'Namibia')[0][0][0]"
   ]
  },
  {
   "cell_type": "code",
   "execution_count": 153,
   "metadata": {},
   "outputs": [
    {
     "data": {
      "text/plain": [
       "['Netherland Antilles',\n",
       " 'Namibia',\n",
       " 'East Timor',\n",
       " 'Serbia and Montenegro',\n",
       " 'Congo (Democratic Republic of the)']"
      ]
     },
     "execution_count": 153,
     "metadata": {},
     "output_type": "execute_result"
    }
   ],
   "source": [
    "not_found"
   ]
  },
  {
   "cell_type": "code",
   "execution_count": 134,
   "metadata": {
    "collapsed": true
   },
   "outputs": [
    {
     "ename": "HTTPError",
     "evalue": "503 Server Error: Service Unavailable for url: https://translate.google.com/translate_a/single?client=a&ie=utf-8&oe=utf-8&dt=t&sl=it&tl=en&q=Slovacchia%2CSaint+Vincent+e+Grenadine%2CSri+Lanka+%28ex+Ceylon%29%2CCamerun%2CArabia+Saudita%2CPolonia%2CGuyana%2CRussia%2CSenegal%2CGiamaica%2CRegno+unito%2CLibano%2CVietnam",
     "output_type": "error",
     "traceback": [
      "\u001b[0;31m---------------------------------------------------------------------------\u001b[0m",
      "\u001b[0;31mHTTPError\u001b[0m                                 Traceback (most recent call last)",
      "\u001b[0;32m<ipython-input-134-0621b93f1b69>\u001b[0m in \u001b[0;36m<module>\u001b[0;34m()\u001b[0m\n\u001b[1;32m      9\u001b[0m     \u001b[0mi\u001b[0m \u001b[0;34m+=\u001b[0m \u001b[0;36m13\u001b[0m\u001b[0;34m\u001b[0m\u001b[0m\n\u001b[1;32m     10\u001b[0m     \u001b[0mj\u001b[0m \u001b[0;34m+=\u001b[0m \u001b[0;36m13\u001b[0m\u001b[0;34m\u001b[0m\u001b[0m\n\u001b[0;32m---> 11\u001b[0;31m     \u001b[0mtemp\u001b[0m \u001b[0;34m=\u001b[0m \u001b[0mtranslator\u001b[0m\u001b[0;34m(\u001b[0m\u001b[0;34m\"it\"\u001b[0m\u001b[0;34m,\u001b[0m \u001b[0;34m\"en\"\u001b[0m\u001b[0;34m,\u001b[0m \u001b[0mtemp_subset\u001b[0m\u001b[0;34m)\u001b[0m\u001b[0;34m[\u001b[0m\u001b[0;36m0\u001b[0m\u001b[0;34m]\u001b[0m\u001b[0;34m[\u001b[0m\u001b[0;36m0\u001b[0m\u001b[0;34m]\u001b[0m\u001b[0;34m[\u001b[0m\u001b[0;34m:\u001b[0m\u001b[0;36m2\u001b[0m\u001b[0;34m]\u001b[0m\u001b[0;34m\u001b[0m\u001b[0m\n\u001b[0m\u001b[1;32m     12\u001b[0m     \u001b[0mtranslation\u001b[0m\u001b[0;34m.\u001b[0m\u001b[0mappend\u001b[0m\u001b[0;34m(\u001b[0m\u001b[0mtemp\u001b[0m\u001b[0;34m)\u001b[0m\u001b[0;34m\u001b[0m\u001b[0m\n",
      "\u001b[0;32m~/myenv/lib64/python3.6/site-packages/translate/translator.py\u001b[0m in \u001b[0;36mconnection\u001b[0;34m(*args, **kwargs)\u001b[0m\n\u001b[1;32m     49\u001b[0m \u001b[0;34m\u001b[0m\u001b[0m\n\u001b[1;32m     50\u001b[0m         \u001b[0;32mif\u001b[0m \u001b[0mresponse\u001b[0m\u001b[0;34m.\u001b[0m\u001b[0mstatus_code\u001b[0m \u001b[0;34m!=\u001b[0m \u001b[0mrequests\u001b[0m\u001b[0;34m.\u001b[0m\u001b[0mcodes\u001b[0m\u001b[0;34m.\u001b[0m\u001b[0mok\u001b[0m\u001b[0;34m:\u001b[0m\u001b[0;34m\u001b[0m\u001b[0m\n\u001b[0;32m---> 51\u001b[0;31m             \u001b[0mresponse\u001b[0m\u001b[0;34m.\u001b[0m\u001b[0mraise_for_status\u001b[0m\u001b[0;34m(\u001b[0m\u001b[0;34m)\u001b[0m\u001b[0;34m\u001b[0m\u001b[0m\n\u001b[0m\u001b[1;32m     52\u001b[0m \u001b[0;34m\u001b[0m\u001b[0m\n\u001b[1;32m     53\u001b[0m         \u001b[0mcleanup\u001b[0m \u001b[0;34m=\u001b[0m \u001b[0mre\u001b[0m\u001b[0;34m.\u001b[0m\u001b[0msubn\u001b[0m\u001b[0;34m(\u001b[0m\u001b[0;34mr',(?=,)'\u001b[0m\u001b[0;34m,\u001b[0m \u001b[0;34m''\u001b[0m\u001b[0;34m,\u001b[0m \u001b[0mresponse\u001b[0m\u001b[0;34m.\u001b[0m\u001b[0mcontent\u001b[0m\u001b[0;34m.\u001b[0m\u001b[0mdecode\u001b[0m\u001b[0;34m(\u001b[0m\u001b[0;34m'utf-8'\u001b[0m\u001b[0;34m)\u001b[0m\u001b[0;34m)\u001b[0m\u001b[0;34m[\u001b[0m\u001b[0;36m0\u001b[0m\u001b[0;34m]\u001b[0m\u001b[0;34m\u001b[0m\u001b[0m\n",
      "\u001b[0;32m~/myenv/lib64/python3.6/site-packages/requests/models.py\u001b[0m in \u001b[0;36mraise_for_status\u001b[0;34m(self)\u001b[0m\n\u001b[1;32m    933\u001b[0m \u001b[0;34m\u001b[0m\u001b[0m\n\u001b[1;32m    934\u001b[0m         \u001b[0;32mif\u001b[0m \u001b[0mhttp_error_msg\u001b[0m\u001b[0;34m:\u001b[0m\u001b[0;34m\u001b[0m\u001b[0m\n\u001b[0;32m--> 935\u001b[0;31m             \u001b[0;32mraise\u001b[0m \u001b[0mHTTPError\u001b[0m\u001b[0;34m(\u001b[0m\u001b[0mhttp_error_msg\u001b[0m\u001b[0;34m,\u001b[0m \u001b[0mresponse\u001b[0m\u001b[0;34m=\u001b[0m\u001b[0mself\u001b[0m\u001b[0;34m)\u001b[0m\u001b[0;34m\u001b[0m\u001b[0m\n\u001b[0m\u001b[1;32m    936\u001b[0m \u001b[0;34m\u001b[0m\u001b[0m\n\u001b[1;32m    937\u001b[0m     \u001b[0;32mdef\u001b[0m \u001b[0mclose\u001b[0m\u001b[0;34m(\u001b[0m\u001b[0mself\u001b[0m\u001b[0;34m)\u001b[0m\u001b[0;34m:\u001b[0m\u001b[0;34m\u001b[0m\u001b[0m\n",
      "\u001b[0;31mHTTPError\u001b[0m: 503 Server Error: Service Unavailable for url: https://translate.google.com/translate_a/single?client=a&ie=utf-8&oe=utf-8&dt=t&sl=it&tl=en&q=Slovacchia%2CSaint+Vincent+e+Grenadine%2CSri+Lanka+%28ex+Ceylon%29%2CCamerun%2CArabia+Saudita%2CPolonia%2CGuyana%2CRussia%2CSenegal%2CGiamaica%2CRegno+unito%2CLibano%2CVietnam"
     ]
    }
   ],
   "source": [
    "'''\n",
    "i, j = 0, 13\n",
    "num = int(np.ceil(len(countries)/13))\n",
    "translation = []\n",
    "for n in range(num): \n",
    "    if n != num-1:\n",
    "        temp_subset = (\",\").join(countries[i:j])\n",
    "    else:\n",
    "        temp_subset = (\",\").join(countries[i:])\n",
    "    i += 13\n",
    "    j += 13\n",
    "    temp = translator(\"it\", \"en\", temp_subset)[0][0][:2]\n",
    "    translation.append(temp)\n",
    "'''"
   ]
  },
  {
   "cell_type": "code",
   "execution_count": 47,
   "metadata": {},
   "outputs": [],
   "source": [
    "contries_en_translation = countries_en.copy()"
   ]
  },
  {
   "cell_type": "code",
   "execution_count": null,
   "metadata": {},
   "outputs": [],
   "source": [
    "countries_iso = [geo_info[geo_info[\"country\"] == i][\"iso3\"].values[0] for i in countries]"
   ]
  },
  {
   "cell_type": "markdown",
   "metadata": {},
   "source": [
    "### Population info"
   ]
  },
  {
   "cell_type": "code",
   "execution_count": 183,
   "metadata": {},
   "outputs": [
    {
     "data": {
      "text/html": [
       "<div>\n",
       "<style>\n",
       "    .dataframe thead tr:only-child th {\n",
       "        text-align: right;\n",
       "    }\n",
       "\n",
       "    .dataframe thead th {\n",
       "        text-align: left;\n",
       "    }\n",
       "\n",
       "    .dataframe tbody tr th {\n",
       "        vertical-align: top;\n",
       "    }\n",
       "</style>\n",
       "<table border=\"1\" class=\"dataframe\">\n",
       "  <thead>\n",
       "    <tr style=\"text-align: right;\">\n",
       "      <th></th>\n",
       "      <th>country</th>\n",
       "      <th>iso3</th>\n",
       "      <th>2010</th>\n",
       "      <th>2011</th>\n",
       "      <th>2012</th>\n",
       "      <th>2013</th>\n",
       "      <th>2014</th>\n",
       "      <th>2015</th>\n",
       "      <th>2016</th>\n",
       "    </tr>\n",
       "  </thead>\n",
       "  <tbody>\n",
       "    <tr>\n",
       "      <th>0</th>\n",
       "      <td>Aruba</td>\n",
       "      <td>ABW</td>\n",
       "      <td>101669.0</td>\n",
       "      <td>102053.0</td>\n",
       "      <td>102577.0</td>\n",
       "      <td>103187.0</td>\n",
       "      <td>103795.0</td>\n",
       "      <td>104341.0</td>\n",
       "      <td>104822.0</td>\n",
       "    </tr>\n",
       "    <tr>\n",
       "      <th>1</th>\n",
       "      <td>Afghanistan</td>\n",
       "      <td>AFG</td>\n",
       "      <td>28803167.0</td>\n",
       "      <td>29708599.0</td>\n",
       "      <td>30696958.0</td>\n",
       "      <td>31731688.0</td>\n",
       "      <td>32758020.0</td>\n",
       "      <td>33736494.0</td>\n",
       "      <td>34656032.0</td>\n",
       "    </tr>\n",
       "    <tr>\n",
       "      <th>2</th>\n",
       "      <td>Angola</td>\n",
       "      <td>AGO</td>\n",
       "      <td>23369131.0</td>\n",
       "      <td>24218565.0</td>\n",
       "      <td>25096150.0</td>\n",
       "      <td>25998340.0</td>\n",
       "      <td>26920466.0</td>\n",
       "      <td>27859305.0</td>\n",
       "      <td>28813463.0</td>\n",
       "    </tr>\n",
       "    <tr>\n",
       "      <th>3</th>\n",
       "      <td>Albania</td>\n",
       "      <td>ALB</td>\n",
       "      <td>2913021.0</td>\n",
       "      <td>2905195.0</td>\n",
       "      <td>2900401.0</td>\n",
       "      <td>2895092.0</td>\n",
       "      <td>2889104.0</td>\n",
       "      <td>2880703.0</td>\n",
       "      <td>2876101.0</td>\n",
       "    </tr>\n",
       "    <tr>\n",
       "      <th>4</th>\n",
       "      <td>Andorra</td>\n",
       "      <td>AND</td>\n",
       "      <td>84449.0</td>\n",
       "      <td>83751.0</td>\n",
       "      <td>82431.0</td>\n",
       "      <td>80788.0</td>\n",
       "      <td>79223.0</td>\n",
       "      <td>78014.0</td>\n",
       "      <td>77281.0</td>\n",
       "    </tr>\n",
       "  </tbody>\n",
       "</table>\n",
       "</div>"
      ],
      "text/plain": [
       "       country iso3        2010        2011        2012        2013  \\\n",
       "0        Aruba  ABW    101669.0    102053.0    102577.0    103187.0   \n",
       "1  Afghanistan  AFG  28803167.0  29708599.0  30696958.0  31731688.0   \n",
       "2       Angola  AGO  23369131.0  24218565.0  25096150.0  25998340.0   \n",
       "3      Albania  ALB   2913021.0   2905195.0   2900401.0   2895092.0   \n",
       "4      Andorra  AND     84449.0     83751.0     82431.0     80788.0   \n",
       "\n",
       "         2014        2015        2016  \n",
       "0    103795.0    104341.0    104822.0  \n",
       "1  32758020.0  33736494.0  34656032.0  \n",
       "2  26920466.0  27859305.0  28813463.0  \n",
       "3   2889104.0   2880703.0   2876101.0  \n",
       "4     79223.0     78014.0     77281.0  "
      ]
     },
     "execution_count": 183,
     "metadata": {},
     "output_type": "execute_result"
    }
   ],
   "source": [
    "pop = pd.read_table(path+\"API_SP.POP.TOTL_DS2_en_csv_v2/population.csv\", sep = \",\", skiprows = 4)\n",
    "# 2017 data all nan (not yet available)\n",
    "pop = pop[['Country Name', 'Country Code', '2010', '2011', '2012', '2013','2014','2015', '2016']]\n",
    "# rename the columns - coherence between the tables\n",
    "pop.rename(columns = {'Country Name': 'country', 'Country Code': 'iso3'}, inplace = True)\n",
    "\n",
    "pop.head()"
   ]
  },
  {
   "cell_type": "code",
   "execution_count": null,
   "metadata": {},
   "outputs": [],
   "source": []
  },
  {
   "cell_type": "code",
   "execution_count": null,
   "metadata": {},
   "outputs": [],
   "source": []
  },
  {
   "cell_type": "code",
   "execution_count": null,
   "metadata": {},
   "outputs": [],
   "source": []
  },
  {
   "cell_type": "code",
   "execution_count": null,
   "metadata": {},
   "outputs": [],
   "source": []
  },
  {
   "cell_type": "code",
   "execution_count": null,
   "metadata": {},
   "outputs": [],
   "source": []
  },
  {
   "cell_type": "code",
   "execution_count": null,
   "metadata": {},
   "outputs": [],
   "source": []
  },
  {
   "cell_type": "code",
   "execution_count": null,
   "metadata": {},
   "outputs": [],
   "source": []
  },
  {
   "cell_type": "code",
   "execution_count": null,
   "metadata": {},
   "outputs": [],
   "source": []
  },
  {
   "cell_type": "code",
   "execution_count": null,
   "metadata": {},
   "outputs": [],
   "source": []
  }
 ],
 "metadata": {
  "kernelspec": {
   "display_name": "Python 3",
   "language": "python",
   "name": "python3"
  },
  "language_info": {
   "codemirror_mode": {
    "name": "ipython",
    "version": 3
   },
   "file_extension": ".py",
   "mimetype": "text/x-python",
   "name": "python",
   "nbconvert_exporter": "python",
   "pygments_lexer": "ipython3",
   "version": "3.6.3"
  }
 },
 "nbformat": 4,
 "nbformat_minor": 2
}
