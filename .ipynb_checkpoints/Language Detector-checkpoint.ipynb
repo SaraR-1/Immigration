{
 "cells": [
  {
   "cell_type": "code",
   "execution_count": 4,
   "metadata": {},
   "outputs": [],
   "source": [
    "from langdetect import detect\n",
    "from langdetect import detect_langs"
   ]
  },
  {
   "cell_type": "code",
   "execution_count": 12,
   "metadata": {},
   "outputs": [],
   "source": [
    "song = \"Holly came from Miami F.L.A. hitch-hiked her way across the U.S.A. Plucked her eyebrows on the way shaved her leg and then he was a she She says, hey babe take a walk on the wild side said, hey honey take a walk on the wild side Candy came from out on the island in the backroom she was everybodys darling But she never lost her head even when she was givin head She says, hey babe take a walk on the wild side said, hey babe take a walk on the wild side and the coloured girls go Doo, doo-doo, doo-doo, doo-doo-doo doo, doo-doo, doo-doo, doo-doo-doo  Little Joe never once gave it away everybody had to pay and pay A hustle here and a hustle there New York City is the place where they said Hey babe, take a walk on the wild side I said, hey Joe take a walk on the wild side  Sugar Plum Fairy came and hit the streets lookin for soul food and a place to eat Went to the Apollo you should have seen him go-go-go They said, hey Sugar take a walk on the wild side I said, hey babe take a walk on the wild side all right, huh  Jackie is just speeding away thought she was James Dean for a day Then I guess she had to crash valium would have helped that bash She said, hey babe take a walk on the wild side I said, hey honey take a walk on the wild side and the coloured girls say Doo, doo-doo, doo-doo, doo-doo-doo\"\n",
    "song2 = \"Conversion, software version 7.0 Looking at life through the eyes of a tire hub  Eating seeds as a pastime activity The toxicity of our city, of our city  New, what do you own the world? How do you own disorder, disorder Now, somewhere between the sacred silence, sacred silence and sleep Somewhere between the sacred silence and sleep Disorder, disorder, disorder  More wood for their fires, loud neighbours Flashlight reveries caught in the headlights of a truck  Eating seeds as a pastime activity The toxicity of our city, of our city  New, what do you own the world? How do you own disorder, disorder Now, somewhere between the sacred silence, sacred silence and sleep Somewhere between the sacred silence and sleep Disorder, disorder, disorder  New, what do you own the world? How do you own disorder Now, somewhere between the sacred silence, sacred silence and sleep Somewhere between the sacred silence and sleep Disorder, disorder, disorder  When I became the sun I shone life into the man's hearts When I became the sun I shone life into the man's hearts\"\n",
    "song3 = \"Di tutti i poeti e i pazzi  che abbiamo incontrato per strada  ho tenuto una faccia o un nome  una lacrima o qualche risata  abbiamo bevuto a Galway  fatto tardi nei bar di Lisbona  riscoperto le storie d'Italia  sulle note di qualche canzone.     Abbiamo girato insieme  e ascoltato le voci dei matti  incontrato la gente più strana  e imbarcato compagni di viaggio  qualcuno è rimasto  qualcuno è andato e non s'è più sentito  un giorno anche tu hai deciso  un abbraccio e poi sei partito.     Buon viaggio hermano querido  e buon cammino ovunque tu vada  forse un giorno potremo incontrarci  di nuovo lungo la strada. Di tutti i paesi e le piazze  dove abbiamo fermato il furgone  abbiamo perso un minuto ad ascoltare  un partigiano o qualche ubriacone  le strane storie dei vecchi al bar  e dei bambini col tè del deserto  sono state lezioni di vita  che ho imparato e ancora conservo.     Buon viaggio     Non sto piangendo sui tempi andati  o sul passato e le solite storie  perché è stupido fare casino  su un ricordo o su qualche canzone  non voltarti ti prego  nessun rimpianto per quello che è stato  che le stelle ti guidino sempre  e la strada ti porti lontano     Buon viaggio\""
   ]
  },
  {
   "cell_type": "code",
   "execution_count": 9,
   "metadata": {},
   "outputs": [
    {
     "name": "stdout",
     "output_type": "stream",
     "text": [
      "en [en:0.9999966073743348]\n"
     ]
    }
   ],
   "source": [
    "print(detect(song), detect_langs(song))"
   ]
  },
  {
   "cell_type": "code",
   "execution_count": 10,
   "metadata": {},
   "outputs": [
    {
     "name": "stdout",
     "output_type": "stream",
     "text": [
      "en [en:0.9999955489444534]\n"
     ]
    }
   ],
   "source": [
    "print(detect(song2), detect_langs(song2))"
   ]
  },
  {
   "cell_type": "code",
   "execution_count": 13,
   "metadata": {},
   "outputs": [
    {
     "name": "stdout",
     "output_type": "stream",
     "text": [
      "it [it:0.9999975338414497]\n"
     ]
    }
   ],
   "source": [
    "print(detect(song3), detect_langs(song3))"
   ]
  },
  {
   "cell_type": "code",
   "execution_count": 8,
   "metadata": {},
   "outputs": [
    {
     "data": {
      "text/plain": [
       "'en'"
      ]
     },
     "execution_count": 8,
     "metadata": {},
     "output_type": "execute_result"
    }
   ],
   "source": [
    "detect(song2)"
   ]
  },
  {
   "cell_type": "code",
   "execution_count": null,
   "metadata": {},
   "outputs": [],
   "source": []
  }
 ],
 "metadata": {
  "kernelspec": {
   "display_name": "Python 3",
   "language": "python",
   "name": "python3"
  },
  "language_info": {
   "codemirror_mode": {
    "name": "ipython",
    "version": 3
   },
   "file_extension": ".py",
   "mimetype": "text/x-python",
   "name": "python",
   "nbconvert_exporter": "python",
   "pygments_lexer": "ipython3",
   "version": "3.6.3"
  }
 },
 "nbformat": 4,
 "nbformat_minor": 2
}
