{
 "cells": [
  {
   "cell_type": "code",
   "execution_count": 115,
   "metadata": {},
   "outputs": [],
   "source": [
    "import pandas as pd\n",
    "import seaborn as sns\n",
    "import matplotlib.pyplot as plt"
   ]
  },
  {
   "cell_type": "code",
   "execution_count": 117,
   "metadata": {},
   "outputs": [
    {
     "data": {
      "text/html": [
       "<div>\n",
       "<style>\n",
       "    .dataframe thead tr:only-child th {\n",
       "        text-align: right;\n",
       "    }\n",
       "\n",
       "    .dataframe thead th {\n",
       "        text-align: left;\n",
       "    }\n",
       "\n",
       "    .dataframe tbody tr th {\n",
       "        vertical-align: top;\n",
       "    }\n",
       "</style>\n",
       "<table border=\"1\" class=\"dataframe\">\n",
       "  <thead>\n",
       "    <tr style=\"text-align: right;\">\n",
       "      <th></th>\n",
       "      <th>Provincia</th>\n",
       "      <th>Cittadinanza</th>\n",
       "      <th>Periodo</th>\n",
       "      <th>Sesso</th>\n",
       "      <th>Numero</th>\n",
       "    </tr>\n",
       "  </thead>\n",
       "  <tbody>\n",
       "    <tr>\n",
       "      <th>0</th>\n",
       "      <td>Alessandria</td>\n",
       "      <td>Andorra</td>\n",
       "      <td>2017</td>\n",
       "      <td>maschi</td>\n",
       "      <td>0</td>\n",
       "    </tr>\n",
       "    <tr>\n",
       "      <th>1</th>\n",
       "      <td>Alessandria</td>\n",
       "      <td>Andorra</td>\n",
       "      <td>2017</td>\n",
       "      <td>femmine</td>\n",
       "      <td>1</td>\n",
       "    </tr>\n",
       "    <tr>\n",
       "      <th>2</th>\n",
       "      <td>Genova</td>\n",
       "      <td>Andorra</td>\n",
       "      <td>2013</td>\n",
       "      <td>maschi</td>\n",
       "      <td>0</td>\n",
       "    </tr>\n",
       "    <tr>\n",
       "      <th>3</th>\n",
       "      <td>Genova</td>\n",
       "      <td>Andorra</td>\n",
       "      <td>2013</td>\n",
       "      <td>femmine</td>\n",
       "      <td>1</td>\n",
       "    </tr>\n",
       "    <tr>\n",
       "      <th>4</th>\n",
       "      <td>Como</td>\n",
       "      <td>Andorra</td>\n",
       "      <td>2013</td>\n",
       "      <td>maschi</td>\n",
       "      <td>0</td>\n",
       "    </tr>\n",
       "  </tbody>\n",
       "</table>\n",
       "</div>"
      ],
      "text/plain": [
       "     Provincia Cittadinanza  Periodo    Sesso  Numero\n",
       "0  Alessandria      Andorra     2017   maschi       0\n",
       "1  Alessandria      Andorra     2017  femmine       1\n",
       "2       Genova      Andorra     2013   maschi       0\n",
       "3       Genova      Andorra     2013  femmine       1\n",
       "4         Como      Andorra     2013   maschi       0"
      ]
     },
     "execution_count": 117,
     "metadata": {},
     "output_type": "execute_result"
    }
   ],
   "source": [
    "resident_foreigners_norm = pd.read_table(\"Data_norm/resident_foreigners_norm.csv\", sep = \",\", \n",
    "                                         usecols = ['Provincia', 'Cittadinanza','Periodo', 'Sesso', 'Numero'])\n",
    "resident_foreigners_norm.head()"
   ]
  },
  {
   "cell_type": "code",
   "execution_count": 27,
   "metadata": {},
   "outputs": [
    {
     "data": {
      "text/html": [
       "<div>\n",
       "<style>\n",
       "    .dataframe thead tr:only-child th {\n",
       "        text-align: right;\n",
       "    }\n",
       "\n",
       "    .dataframe thead th {\n",
       "        text-align: left;\n",
       "    }\n",
       "\n",
       "    .dataframe tbody tr th {\n",
       "        vertical-align: top;\n",
       "    }\n",
       "</style>\n",
       "<table border=\"1\" class=\"dataframe\">\n",
       "  <thead>\n",
       "    <tr style=\"text-align: right;\">\n",
       "      <th></th>\n",
       "      <th>Provincia</th>\n",
       "      <th>Regione</th>\n",
       "    </tr>\n",
       "  </thead>\n",
       "  <tbody>\n",
       "    <tr>\n",
       "      <th>0</th>\n",
       "      <td>Torino</td>\n",
       "      <td>Piemonte</td>\n",
       "    </tr>\n",
       "    <tr>\n",
       "      <th>1</th>\n",
       "      <td>Vercelli</td>\n",
       "      <td>Piemonte</td>\n",
       "    </tr>\n",
       "    <tr>\n",
       "      <th>2</th>\n",
       "      <td>Novara</td>\n",
       "      <td>Piemonte</td>\n",
       "    </tr>\n",
       "    <tr>\n",
       "      <th>3</th>\n",
       "      <td>Cuneo</td>\n",
       "      <td>Piemonte</td>\n",
       "    </tr>\n",
       "    <tr>\n",
       "      <th>4</th>\n",
       "      <td>Asti</td>\n",
       "      <td>Piemonte</td>\n",
       "    </tr>\n",
       "  </tbody>\n",
       "</table>\n",
       "</div>"
      ],
      "text/plain": [
       "  Provincia   Regione\n",
       "0    Torino  Piemonte\n",
       "1  Vercelli  Piemonte\n",
       "2    Novara  Piemonte\n",
       "3     Cuneo  Piemonte\n",
       "4      Asti  Piemonte"
      ]
     },
     "execution_count": 27,
     "metadata": {},
     "output_type": "execute_result"
    }
   ],
   "source": [
    "provincia_regione = pd.read_table(\"Data/regioni.csv\", sep = \"\\t\")\n",
    "provincia_regione.head()"
   ]
  },
  {
   "cell_type": "code",
   "execution_count": 28,
   "metadata": {},
   "outputs": [
    {
     "data": {
      "text/html": [
       "<div>\n",
       "<style>\n",
       "    .dataframe thead tr:only-child th {\n",
       "        text-align: right;\n",
       "    }\n",
       "\n",
       "    .dataframe thead th {\n",
       "        text-align: left;\n",
       "    }\n",
       "\n",
       "    .dataframe tbody tr th {\n",
       "        vertical-align: top;\n",
       "    }\n",
       "</style>\n",
       "<table border=\"1\" class=\"dataframe\">\n",
       "  <thead>\n",
       "    <tr style=\"text-align: right;\">\n",
       "      <th></th>\n",
       "      <th>Regione</th>\n",
       "      <th>Zona</th>\n",
       "    </tr>\n",
       "  </thead>\n",
       "  <tbody>\n",
       "    <tr>\n",
       "      <th>0</th>\n",
       "      <td>Abruzzo</td>\n",
       "      <td>Sud</td>\n",
       "    </tr>\n",
       "    <tr>\n",
       "      <th>1</th>\n",
       "      <td>Basilicata</td>\n",
       "      <td>Sud</td>\n",
       "    </tr>\n",
       "    <tr>\n",
       "      <th>2</th>\n",
       "      <td>Calabria</td>\n",
       "      <td>Sud</td>\n",
       "    </tr>\n",
       "    <tr>\n",
       "      <th>3</th>\n",
       "      <td>Campania</td>\n",
       "      <td>Sud</td>\n",
       "    </tr>\n",
       "    <tr>\n",
       "      <th>4</th>\n",
       "      <td>Emilia-Romagna</td>\n",
       "      <td>Nord-est</td>\n",
       "    </tr>\n",
       "  </tbody>\n",
       "</table>\n",
       "</div>"
      ],
      "text/plain": [
       "          Regione      Zona\n",
       "0         Abruzzo       Sud\n",
       "1      Basilicata       Sud\n",
       "2        Calabria       Sud\n",
       "3        Campania       Sud\n",
       "4  Emilia-Romagna  Nord-est"
      ]
     },
     "execution_count": 28,
     "metadata": {},
     "output_type": "execute_result"
    }
   ],
   "source": [
    "regione_zona = pd.read_table(\"Data/territori.csv\", sep = \"\\t\")\n",
    "regione_zona.head()"
   ]
  },
  {
   "cell_type": "code",
   "execution_count": 38,
   "metadata": {},
   "outputs": [],
   "source": [
    "years = sorted(list(set(resident_foreigners_norm[\"Periodo\"])))\n",
    "maschi = [sum(resident_foreigners_norm[(resident_foreigners_norm[\"Sesso\"] == \"maschi\") \n",
    "                                       & (resident_foreigners_norm[\"Periodo\"] == y)][\"Numero\"]) for y in years]\n",
    "femmine = [sum(resident_foreigners_norm[(resident_foreigners_norm[\"Sesso\"] == \"femmine\") \n",
    "                                       & (resident_foreigners_norm[\"Periodo\"] == y)][\"Numero\"]) for y in years]\n",
    "totale = [i+j for i, j in zip(maschi, femmine)]"
   ]
  },
  {
   "cell_type": "code",
   "execution_count": 89,
   "metadata": {},
   "outputs": [
    {
     "data": {
      "image/png": "[encoded data removed]",
      "text/plain": [
       "<matplotlib.figure.Figure at 0x7f5b61b09be0>"
      ]
     },
     "metadata": {},
     "output_type": "display_data"
    }
   ],
   "source": [
    "#Set general plot properties\n",
    "sns.set_style(\"whitegrid\")\n",
    "sns.set_context({\"figure.figsize\": (10, 8)})\n",
    "\n",
    "fig, ax = plt.subplots()\n",
    "sns.barplot(y= totale, x = years, label = \"Female\",  color=\"r\", alpha = .8)\n",
    "sns.barplot(y= maschi, x = years, label = \"Male\",  color=\"b\", alpha = .8)\n",
    "sns.despine(left=True)\n",
    "plt.xlabel(\"Years\", fontsize=12)\n",
    "plt.ylabel(\"Abs Frequency\", fontsize=12)\n",
    "plt.legend(prop={'size':16})\n",
    "plt.title(\"Male VS Femare Immigration Frequencies\", fontsize = 16)\n",
    "#plt.xticks(rotation=45)\n",
    "\n",
    "plt.show()"
   ]
  },
  {
   "cell_type": "code",
   "execution_count": 169,
   "metadata": {},
   "outputs": [],
   "source": [
    "# Region distribution - aggragation over the year\n",
    "regioni = {}\n",
    "\n",
    "for r in regioni.keys():\n",
    "    regioni[r] = sum([sum(resident_foreigners_norm[resident_foreigners_norm[\"Provincia\"] == i][\"Numero\"].values) for i in provincia_regione[provincia_regione[\"Regione\"] == r][\"Provincia\"].values])"
   ]
  },
  {
   "cell_type": "code",
   "execution_count": 216,
   "metadata": {},
   "outputs": [],
   "source": [
    "# Region distribution across the years\n",
    "regioni = {}\n",
    "\n",
    "for r in list(set(regione_zona[\"Regione\"])):\n",
    "    regioni[r] = {y: sum([sum(resident_foreigners_norm[(resident_foreigners_norm[\"Provincia\"] == i) \n",
    "                                                          & (resident_foreigners_norm[\"Periodo\"] == y)][\"Numero\"].values) \n",
    "                             for i in provincia_regione[provincia_regione[\"Regione\"] == r][\"Provincia\"].values]) \n",
    "                  for y in years}"
   ]
  },
  {
   "cell_type": "code",
   "execution_count": null,
   "metadata": {},
   "outputs": [],
   "source": [
    "# Plot it!"
   ]
  },
  {
   "cell_type": "code",
   "execution_count": 218,
   "metadata": {},
   "outputs": [],
   "source": [
    "# Zone distribution across the years\n",
    "zone = {}\n",
    "\n",
    "for z in list(set(regione_zona[\"Zona\"])):\n",
    "    zone[z] = {y: sum([regioni[t][y] for t in temp]) for y in years}"
   ]
  },
  {
   "cell_type": "code",
   "execution_count": null,
   "metadata": {},
   "outputs": [],
   "source": [
    "# Plot it!"
   ]
  },
  {
   "cell_type": "markdown",
   "metadata": {},
   "source": [
    "Missing data seems to be balanced between the different informatio:"
   ]
  },
  {
   "cell_type": "code",
   "execution_count": 106,
   "metadata": {},
   "outputs": [],
   "source": [
    "# how many elements each year should have - *2(maschi-femmine)\n",
    "len(list(set(resident_foreigners_norm[\"Cittadinanza\"])))*len(list(set(resident_foreigners_norm[\"Territorio\"])))*2\n",
    "\n",
    "missing_across_years = [len(resident_foreigners_norm[(resident_foreigners_norm[\"Periodo\"] == y)]) for y in years]\n",
    "\n",
    "missing_across_territories = [len(resident_foreigners_norm[(resident_foreigners_norm[\"Territorio\"] == t)]) \n",
    "                        for t in list(set(resident_foreigners_norm[\"Territorio\"]))]\n"
   ]
  },
  {
   "cell_type": "code",
   "execution_count": null,
   "metadata": {},
   "outputs": [],
   "source": []
  },
  {
   "cell_type": "code",
   "execution_count": null,
   "metadata": {},
   "outputs": [],
   "source": []
  },
  {
   "cell_type": "code",
   "execution_count": null,
   "metadata": {},
   "outputs": [],
   "source": []
  },
  {
   "cell_type": "code",
   "execution_count": null,
   "metadata": {},
   "outputs": [],
   "source": []
  },
  {
   "cell_type": "code",
   "execution_count": null,
   "metadata": {},
   "outputs": [],
   "source": []
  },
  {
   "cell_type": "code",
   "execution_count": null,
   "metadata": {},
   "outputs": [],
   "source": []
  },
  {
   "cell_type": "code",
   "execution_count": null,
   "metadata": {},
   "outputs": [],
   "source": []
  },
  {
   "cell_type": "code",
   "execution_count": null,
   "metadata": {},
   "outputs": [],
   "source": []
  },
  {
   "cell_type": "code",
   "execution_count": null,
   "metadata": {},
   "outputs": [],
   "source": []
  }
 ],
 "metadata": {
  "kernelspec": {
   "display_name": "Python 3",
   "language": "python",
   "name": "python3"
  },
  "language_info": {
   "codemirror_mode": {
    "name": "ipython",
    "version": 3
   },
   "file_extension": ".py",
   "mimetype": "text/x-python",
   "name": "python",
   "nbconvert_exporter": "python",
   "pygments_lexer": "ipython3",
   "version": "3.6.3"
  }
 },
 "nbformat": 4,
 "nbformat_minor": 2
}
